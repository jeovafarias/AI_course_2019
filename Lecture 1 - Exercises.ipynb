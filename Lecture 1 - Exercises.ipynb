{
 "cells": [
  {
   "cell_type": "markdown",
   "metadata": {},
   "source": [
    "## E1.1 Summing the values of a vector\n",
    "Given a vector ``v``, code a for loop that sums its values. Also write a nice sentence as output (ex.: \"The sum of the values is 10\", or something like this)"
   ]
  },
  {
   "cell_type": "code",
   "execution_count": 17,
   "metadata": {},
   "outputs": [
    {
     "name": "stdout",
     "output_type": "stream",
     "text": [
      "The sum of the values is 10\n"
     ]
    }
   ],
   "source": [
    "v, s = [1, 2, 3, 4], 0\n",
    "\n",
    "for idx, val in enumerate(v):\n",
    "    s = s + val\n",
    "    \n",
    "print(\"The sum of the values is \" + str(s))"
   ]
  },
  {
   "cell_type": "markdown",
   "metadata": {},
   "source": [
    "## E1.2 Length of a vector\n",
    "Using a for loop compute how many elements are in a vector ``v``. Don't forget the nice sentence."
   ]
  },
  {
   "cell_type": "code",
   "execution_count": 18,
   "metadata": {},
   "outputs": [
    {
     "name": "stdout",
     "output_type": "stream",
     "text": [
      "The lenght of v is 4\n"
     ]
    }
   ],
   "source": [
    "v, c = [1, 2, 3, 4], 0\n",
    "\n",
    "for idx, val in enumerate(v):\n",
    "    c = c + 1\n",
    "    \n",
    "print(\"The lenght of v is \" + str(c))"
   ]
  },
  {
   "cell_type": "markdown",
   "metadata": {},
   "source": [
    "## E1.3 Checking if element is present\n",
    "You are given a vector ``v`` and a number ``n``. Check if ``n`` is in ``v`` using a for loop. Output a boolean, i.e, ``True`` or ``False``. The output here will be a sentence if the element is present or another sentence if it's not."
   ]
  },
  {
   "cell_type": "code",
   "execution_count": 19,
   "metadata": {},
   "outputs": [
    {
     "name": "stdout",
     "output_type": "stream",
     "text": [
      "The element 3 is present in v\n"
     ]
    }
   ],
   "source": [
    "v, n = [1, 2, 3, 4], 3\n",
    "\n",
    "b = False\n",
    "for idx, val in enumerate(v):\n",
    "    if val == n:\n",
    "        b = True\n",
    "\n",
    "if b:\n",
    "    print(\"The element \" + str(n) + \" is present in v\")\n",
    "else:\n",
    "    print(\"The element \" + str(n) + \" is not present in v\")"
   ]
  },
  {
   "cell_type": "markdown",
   "metadata": {},
   "source": [
    "Now, if the ``n`` is present in ``v``, output the index in ``v`` in which it occurred. If it shows up twice or more, output its first occurrence."
   ]
  },
  {
   "cell_type": "code",
   "execution_count": 16,
   "metadata": {},
   "outputs": [
    {
     "name": "stdout",
     "output_type": "stream",
     "text": [
      "The number 3 first occurred at index 2\n"
     ]
    }
   ],
   "source": [
    "v, n = [1, 2, 3, 4], 3\n",
    "\n",
    "b, i = False, -1\n",
    "for idx, val in enumerate(v):\n",
    "    if val == n:\n",
    "        b, i = True, idx\n",
    "        break\n",
    "\n",
    "if b:\n",
    "    print('The number ' + str(n) + ' first occurred at index ' + str(i))\n",
    "else:\n",
    "    print('The number ' + str(n) + ' did not occur')"
   ]
  },
  {
   "cell_type": "markdown",
   "metadata": {},
   "source": [
    "Now, the same as above, but print ``n``'s last occurrence, if it occurs."
   ]
  },
  {
   "cell_type": "code",
   "execution_count": 10,
   "metadata": {},
   "outputs": [
    {
     "name": "stdout",
     "output_type": "stream",
     "text": [
      "The number 3 last occurred at index 3\n"
     ]
    }
   ],
   "source": [
    "v, n = [1, 2, 3, 3], 3\n",
    "\n",
    "b, i = False, -1\n",
    "for idx, val in enumerate(v):\n",
    "    if val == n:\n",
    "        b, i = True, idx\n",
    "\n",
    "if b:\n",
    "    print('The number ' + str(n) + ' last occurred at index ' + str(i))\n",
    "else:\n",
    "    print('The number ' + str(n) + ' did not occur')"
   ]
  },
  {
   "cell_type": "markdown",
   "metadata": {},
   "source": [
    "## E1.4 Maximum and minimum\n",
    "Compute the maximum and the minimum values of a vector ``v``. Don't forget the nice sentence (well, do it for all the other exercises too!)."
   ]
  },
  {
   "cell_type": "code",
   "execution_count": 20,
   "metadata": {},
   "outputs": [
    {
     "name": "stdout",
     "output_type": "stream",
     "text": [
      "The maximum value in v is 4 and its minimum is 1\n"
     ]
    }
   ],
   "source": [
    "v = [1, 2, 3, 4]\n",
    "maximum_value, minimum_value = -1e10, 1e10\n",
    "for idx, val in enumerate(v):\n",
    "    if val > maximum_value:\n",
    "        maximum_value = val\n",
    "    \n",
    "    if val < minimum_value:\n",
    "        minimum_value = val\n",
    "\n",
    "print(\"The maximum value in v is \" + str(maximum_value) + \" and its minimum is \" + str(minimum_value))"
   ]
  },
  {
   "cell_type": "markdown",
   "metadata": {},
   "source": [
    "## E1.5 Average\n",
    "Take the average of the values in the vector ``v``."
   ]
  },
  {
   "cell_type": "code",
   "execution_count": 21,
   "metadata": {},
   "outputs": [
    {
     "name": "stdout",
     "output_type": "stream",
     "text": [
      "The average of the values is 2.5\n"
     ]
    }
   ],
   "source": [
    "v, s, n = [1, 2, 3, 4], 0, 0\n",
    "\n",
    "for idx, val in enumerate(v):\n",
    "    s = s + val\n",
    "    n = n + 1\n",
    "    \n",
    "print(\"The average of the values is \" + str(s/n))"
   ]
  },
  {
   "cell_type": "markdown",
   "metadata": {},
   "source": [
    "## E1.5 Dot product\n",
    "Given two vectors ``u`` and ``v``, compute their dot product."
   ]
  },
  {
   "cell_type": "code",
   "execution_count": 3,
   "metadata": {},
   "outputs": [
    {
     "name": "stdout",
     "output_type": "stream",
     "text": [
      "The dot product between u and v is 32\n"
     ]
    }
   ],
   "source": [
    "v = [1, 2, 3]\n",
    "u = [4, 5, 6]\n",
    "\n",
    "result = 0\n",
    "for i, _ in enumerate(v):\n",
    "    result = result + v[i] * u[i]\n",
    "    \n",
    "print(\"The dot product between u and v is \" + str(result))"
   ]
  }
 ],
 "metadata": {
  "kernelspec": {
   "display_name": "Python 3",
   "language": "python",
   "name": "python3"
  },
  "language_info": {
   "codemirror_mode": {
    "name": "ipython",
    "version": 3
   },
   "file_extension": ".py",
   "mimetype": "text/x-python",
   "name": "python",
   "nbconvert_exporter": "python",
   "pygments_lexer": "ipython3",
   "version": "3.6.8"
  }
 },
 "nbformat": 4,
 "nbformat_minor": 2
}
