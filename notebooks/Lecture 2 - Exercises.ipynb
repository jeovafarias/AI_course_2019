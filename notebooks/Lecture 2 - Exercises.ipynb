{
 "cells": [
  {
   "cell_type": "markdown",
   "metadata": {},
   "source": [
    "## E2.1 The unique values of a vector\n",
    "Using just for loop, get the unique values in a vector. Ex.: for a vector ``v = [1, 1, 2, 3, 4, 3]``, the out put will be a vector ``u = [1, 2, 3, 4]``. Make it a function and do not use numpy. Also, make use of the code that checks if an element occurs from yesterday. Make it a function too."
   ]
  },
  {
   "cell_type": "code",
   "execution_count": 33,
   "metadata": {},
   "outputs": [
    {
     "name": "stdout",
     "output_type": "stream",
     "text": [
      "The unique values in u are: [1, 2, 3, 4]\n"
     ]
    }
   ],
   "source": [
    "def is_present(v, n):\n",
    "    b = False\n",
    "    for idx, val in enumerate(v):\n",
    "        if val == n:\n",
    "            b = True\n",
    "    return b\n",
    "    \n",
    "def unique(v):\n",
    "    u = []\n",
    "    for idx, val in enumerate(v):\n",
    "        if not is_present(u, val):\n",
    "            u.append(val)\n",
    "    return u\n",
    "\n",
    "v = [1, 1, 2, 3, 4, 3]\n",
    "u = unique(v)\n",
    "\n",
    "print(\"The unique values in u are: \" + str(u))"
   ]
  },
  {
   "cell_type": "markdown",
   "metadata": {},
   "source": [
    "## E2.2 Replacing values in a vector\n",
    "You are given a vector ``v`` and a number ``n``. Make a function that replaces all the occurrences of ``n`` in ``v`` by the number 1 and all the other elements by the number ``-1``. Ex.: if ``v = [1, 2, 1, 5, 2]`` and ``n = 2``, the output is ``v_new = [-1, 1, -1, -1, 1]``. Do not use numpy in this problem."
   ]
  },
  {
   "cell_type": "code",
   "execution_count": 34,
   "metadata": {},
   "outputs": [
    {
     "name": "stdout",
     "output_type": "stream",
     "text": [
      "The new vector is: [-1, 1, -1, -1, 1]\n"
     ]
    }
   ],
   "source": [
    "def replace_numbers(v, n):  \n",
    "    v_new = []\n",
    "    for idx, val in enumerate(v):\n",
    "        if val == n:\n",
    "            v_new.append(1)\n",
    "        else:\n",
    "            v_new.append(-1)\n",
    "    return v_new\n",
    "\n",
    "v, n = [1, 2, 1, 5, 2], 2\n",
    "v_new = replace_numbers(v, n)\n",
    "\n",
    "print(\"The new vector is: \"  + str(v_new))"
   ]
  },
  {
   "cell_type": "markdown",
   "metadata": {},
   "source": [
    "If you could use numpy, how would you change the function above? Hint: it is related to the function ``np.zeros()``."
   ]
  },
  {
   "cell_type": "code",
   "execution_count": 35,
   "metadata": {},
   "outputs": [
    {
     "name": "stdout",
     "output_type": "stream",
     "text": [
      "The new vector is: [-1.  1. -1. -1.  1.]\n"
     ]
    }
   ],
   "source": [
    "import numpy as np\n",
    "\n",
    "def replace_numbers(v, n):  \n",
    "    v_new = np.zeros(len(v))\n",
    "    for idx, val in enumerate(v):\n",
    "        if val == n:\n",
    "            v_new[idx] = 1\n",
    "        else:\n",
    "            v_new[idx] = -1\n",
    "    return v_new\n",
    "\n",
    "v, n = [1, 2, 1, 5, 2], 2\n",
    "v_new = replace_numbers(v, n)\n",
    "\n",
    "print(\"The new vector is: \"  + str(v_new))"
   ]
  },
  {
   "cell_type": "markdown",
   "metadata": {},
   "source": [
    "The difference between these functionis quite silly, but it will be useful in the future."
   ]
  },
  {
   "cell_type": "markdown",
   "metadata": {},
   "source": [
    "## E2.3 Returning the sign of a dot product\n",
    "You are given $x$ of length $d$ and $w$ of length $d + 1$. Make a function that returns the sign (if positive, return 1 and, if negative, return -1) of the expression $v \\cdot x + b$, where $v$ is $w$ up to the second to last element and $b$ is its last element. Use the function ``np.sign()``."
   ]
  },
  {
   "cell_type": "code",
   "execution_count": 4,
   "metadata": {},
   "outputs": [
    {
     "name": "stdout",
     "output_type": "stream",
     "text": [
      "The sign dot is 1\n"
     ]
    }
   ],
   "source": [
    "def sign_dot(x, w):\n",
    "    v, b = w[0:-1], w[-1]\n",
    "    return np.sign(np.dot(v, x) + b)\n",
    "\n",
    "w = [2, 1, 30]\n",
    "x = [3, 4]\n",
    "\n",
    "print(\"The sign dot is \" + str(sign_dot(x, w)))"
   ]
  },
  {
   "cell_type": "markdown",
   "metadata": {},
   "source": [
    "## E2.4 Operations on matrices column-wise\n",
    "### Maximum and minimum\n",
    "You are given a matrix. Your task is to find the maximum and the maximum and the minimum values of each column and store them in two vectors (one for the maximum values and another one for the minumum values)"
   ]
  },
  {
   "cell_type": "code",
   "execution_count": null,
   "metadata": {},
   "outputs": [],
   "source": [
    "# TODO"
   ]
  },
  {
   "cell_type": "markdown",
   "metadata": {},
   "source": [
    "### Indices of the maximum and minimum values\n",
    "Now, get the indices of the maximum and minimum values in each column. Store them in two vectors as above."
   ]
  },
  {
   "cell_type": "code",
   "execution_count": null,
   "metadata": {},
   "outputs": [],
   "source": [
    "# TODO"
   ]
  },
  {
   "cell_type": "markdown",
   "metadata": {},
   "source": [
    "### Summing and Averaging\n",
    "Compute the sum and the average of each column. Store them in two vectors as above."
   ]
  },
  {
   "cell_type": "code",
   "execution_count": 36,
   "metadata": {},
   "outputs": [],
   "source": [
    "# TODO"
   ]
  },
  {
   "cell_type": "markdown",
   "metadata": {},
   "source": [
    "### Numpy power\n",
    "Lastly, go to the numpy documentation and code the same as above using the functions ``np.max``, ``np.min``, ``np.argmax``, ``np.argmin``, ``np.sum`` and ``np.mean``."
   ]
  },
  {
   "cell_type": "code",
   "execution_count": 37,
   "metadata": {},
   "outputs": [],
   "source": [
    "# TODO"
   ]
  },
  {
   "cell_type": "markdown",
   "metadata": {},
   "source": [
    "## E2.? Vandermonde matrix\n",
    "Have you heard of the Vandermonde matrix (if not, check it on Wikipedia)? Create a function ``vandermonde()`` that receives one argument ``d`` and outputs a Vandermonde matrix. "
   ]
  },
  {
   "cell_type": "code",
   "execution_count": 9,
   "metadata": {},
   "outputs": [
    {
     "name": "stdout",
     "output_type": "stream",
     "text": [
      "<class 'list'>\n",
      "3\n"
     ]
    }
   ],
   "source": [
    "import numpy as np\n",
    "\n",
    "def vandermonde(d)\n",
    "# TODO"
   ]
  },
  {
   "cell_type": "markdown",
   "metadata": {},
   "source": [
    "## E2.? One-hot\n",
    "The One-Hot representation of a vector of integers $v \\in \\mathbb{z^n}$ that range from $1$ to $m$ (i.e, $v_i \\in \\{1, \\ldots, m\\}, \\forall i$) is a binary matrix $M$ (zeros and ones) of size $m \\times n$ such that $M_{i, j} = 1$ if $v_j = i$. Example: If $v = [1, 2, 3, 2]$, then $M = \\begin{bmatrix} 1 & 0 & 0 & 0 \\\\ 0 & 1 & 0 & 1 \\\\ 0 & 0 & 1 & 0  \\end{bmatrix}$. Write a function ``one_hot(v)`` that returns the on hot representation of a vector. Assume $v$ is always a vector of integers."
   ]
  },
  {
   "cell_type": "code",
   "execution_count": null,
   "metadata": {},
   "outputs": [],
   "source": []
  },
  {
   "cell_type": "markdown",
   "metadata": {},
   "source": [
    "## E2.? Fiding the zeros of a function numerically and plotting them\n",
    "You are given a vector, find the the positions in which their values are \"close enough\" to zero. Define what you think \"close enough\" should be. You can put the positions in a list."
   ]
  },
  {
   "cell_type": "code",
   "execution_count": 26,
   "metadata": {},
   "outputs": [
    {
     "name": "stdout",
     "output_type": "stream",
     "text": [
      "[99, 100]\n"
     ]
    }
   ],
   "source": [
    "import numpy as np\n",
    "\n",
    "v = np.linspace(-1, 1, 200)\n",
    "e = .01\n",
    "p = []\n",
    "for i, val in enumerate(v):\n",
    "    if val < e and val > -e:\n",
    "       p.append(i)\n",
    "print(p)"
   ]
  },
  {
   "cell_type": "markdown",
   "metadata": {},
   "source": [
    "Make the above solution a python function that returns the positions. Plot the initial vector as a solid line and, using ``plt.scatter()``, plot the the points over this line where it is zero."
   ]
  },
  {
   "cell_type": "code",
   "execution_count": 29,
   "metadata": {
    "scrolled": true
   },
   "outputs": [
    {
     "data": {
      "image/png": "[encoded data removed]",
      "text/plain": [
       "<Figure size 432x288 with 1 Axes>"
      ]
     },
     "metadata": {
      "needs_background": "light"
     },
     "output_type": "display_data"
    }
   ],
   "source": [
    "%matplotlib inline  \n",
    "\n",
    "import numpy as np\n",
    "import matplotlib.pyplot as plt\n",
    "\n",
    "def find_zeros(v):\n",
    "    e, p = .01, []\n",
    "    for i, val in enumerate(v):\n",
    "        if val < e and val > -e:\n",
    "           p.append(i)\n",
    "    return p\n",
    "\n",
    "v = np.linspace(-1, 1, 200)\n",
    "x = np.arange(0, len(v))\n",
    "p = find_zeros(v)\n",
    "\n",
    "plt.scatter(x[p], v[p])\n",
    "plt.plot(v)\n",
    "plt.show()"
   ]
  },
  {
   "cell_type": "markdown",
   "metadata": {},
   "source": [
    "Now, use what you have just done and find the zeros of the following functions: $f_1(x) = x^2, x \\in [-1, 1]$, $f_2(x) = \\cos(x), x \\in [-2\\pi, 2\\pi]$, $f_3(x) = x^2 \\cos(-x), x \\in [-1, 2]$ and $f_4(x) = e^{-x} \\sin(x), x \\in [0, 5]$ (the $e$ is a very important constant in math that corresponds to 2.718..., in numpy $e^{x}$ can be calculated as ``np.exp(x)``). Plot these graphs in 4 subplots."
   ]
  },
  {
   "cell_type": "code",
   "execution_count": 41,
   "metadata": {},
   "outputs": [
    {
     "data": {
      "image/png": "[encoded data removed]",
      "text/plain": [
       "<Figure size 432x288 with 4 Axes>"
      ]
     },
     "metadata": {
      "needs_background": "light"
     },
     "output_type": "display_data"
    }
   ],
   "source": [
    "%matplotlib inline  \n",
    "\n",
    "import numpy as np\n",
    "import matplotlib.pyplot as plt\n",
    "\n",
    "def find_zeros(v):\n",
    "    e, p = .01, []\n",
    "    for i, val in enumerate(v):\n",
    "        if val < e and val > -e:\n",
    "           p.append(i)\n",
    "    return p\n",
    "\n",
    "x1 = np.linspace(-1, 1, 500)\n",
    "f1 = x1 ** 2\n",
    "p1 = find_zeros(f1)\n",
    "\n",
    "x2 = np.linspace(-2 * np.pi, 2 * np.pi, 500)\n",
    "f2 = np.cos(x2)\n",
    "p2 = find_zeros(f2)\n",
    "\n",
    "x3 = np.linspace(-1, 2, 500)\n",
    "f3 = x3 ** 2 * np.cos(-x3)\n",
    "p3 = find_zeros(f3)\n",
    "\n",
    "x4 = np.linspace(0, 5, 500)\n",
    "f4 = np.exp(-x4) * np.sin(x4)\n",
    "p4 = find_zeros(f4)\n",
    "\n",
    "plt.subplot(221)\n",
    "plt.plot(x1, f1)\n",
    "plt.scatter(x1[p1], f1[p1])\n",
    "\n",
    "plt.subplot(222)\n",
    "plt.plot(x2, f2)\n",
    "plt.scatter(x2[p2], f2[p2])\n",
    "\n",
    "plt.subplot(223)\n",
    "plt.plot(x3, f3)\n",
    "plt.scatter(x3[p3], f3[p3])\n",
    "\n",
    "plt.subplot(224)\n",
    "plt.plot(x4, f4)\n",
    "plt.scatter(x4[p4], f4[p4])\n",
    "\n",
    "plt.show()"
   ]
  },
  {
   "cell_type": "markdown",
   "metadata": {},
   "source": [
    "## E2.? Drawing functions\n",
    "Here I'd like you to draw the following functions with $x$ ranging from $-5$ to $5$:\n",
    "\n",
    "- $f(x) = \\tanh(x)$ (Hyperbolic Tagent) , on a blue solid line;\n",
    "- $f(x) = 1/(1+e^{-z})$ (Sigmoid), on a green dashed line;\n",
    "- $f(x) = \\max(0, x)$ (ReLU - Rectified Linear Unit), on a magenta solid line;\n",
    "- $f(x) = \\text{sign}(x)$ (Step or Sign function), on a red dotted line.\n",
    "\n",
    "Also, add a grid to the plot, add a legend with the name of each function make the lines 2 mm wide and make the axis of the plot be limited by ``x_min = -5``, ``x_max = -5``, ``y_min = -1.2`` and ``y_max = 1.2``. Check this [this link](https://matplotlib.org/users/pyplot_tutorial.html) for more info or ask the teacher/TA if you have any question."
   ]
  },
  {
   "cell_type": "code",
   "execution_count": 15,
   "metadata": {},
   "outputs": [
    {
     "data": {
      "image/png": "[encoded data removed]",
      "text/plain": [
       "<Figure size 432x288 with 1 Axes>"
      ]
     },
     "metadata": {
      "needs_background": "light"
     },
     "output_type": "display_data"
    }
   ],
   "source": [
    "%matplotlib inline  \n",
    "\n",
    "import numpy as np\n",
    "import matplotlib.pyplot as plt\n",
    "\n",
    "def sigmoid(z):\n",
    "    return 1 / (1 + np.exp(-z))\n",
    "\n",
    "def relu(z):\n",
    "    return np.maximum(0, z)\n",
    "\n",
    "z = np.linspace(-5, 5, 200)\n",
    "\n",
    "# plt.figure(figsize=(11,4))\n",
    "# plt.subplot(121)\n",
    "plt.plot(z, np.sign(z), \"r-\", linewidth=2, label=\"Step\")\n",
    "plt.plot(z, sigmoid(z), \"g--\", linewidth=2, label=\"Sigmoid\")\n",
    "plt.plot(z, np.tanh(z), \"b-\", linewidth=2, label=\"Tanh\")\n",
    "plt.plot(z, relu(z), \"m:\", linewidth=2, label=\"ReLU\")\n",
    "plt.grid(True)\n",
    "plt.legend(loc=\"center right\")\n",
    "plt.axis([-5, 5, -1.2, 1.2])\n",
    "\n",
    "# plt.subplot(122)\n",
    "# plt.plot(z, derivative(np.sign, z), \"r-\", linewidth=1, label=\"Step\")\n",
    "# plt.plot(0, 0, \"ro\", markersize=5)\n",
    "# plt.plot(0, 0, \"rx\", markersize=10)\n",
    "# plt.plot(z, derivative(sigmoid, z), \"g--\", linewidth=2, label=\"Sigmoid\")\n",
    "# plt.plot(z, derivative(np.tanh, z), \"b-\", linewidth=2, label=\"Tanh\")\n",
    "# plt.plot(z, derivative(relu, z), \"m-.\", linewidth=2, label=\"ReLU\")\n",
    "# plt.grid(True)\n",
    "# #plt.legend(loc=\"center right\", fontsize=14)\n",
    "# plt.title(\"Derivatives\", fontsize=14)\n",
    "# plt.axis([-5, 5, -0.2, 1.2])\n",
    "\n",
    "plt.show()"
   ]
  },
  {
   "cell_type": "markdown",
   "metadata": {},
   "source": [
    "Now, do the same as above, but in four subplots, one for each function. The lengends above will become the titles of each subplot. Keep the grid on and the same axis limits. You are free to choose the positioning of each of these plots."
   ]
  },
  {
   "cell_type": "code",
   "execution_count": 19,
   "metadata": {},
   "outputs": [
    {
     "data": {
      "image/png": "[encoded data removed]",
      "text/plain": [
       "<Figure size 432x288 with 4 Axes>"
      ]
     },
     "metadata": {
      "needs_background": "light"
     },
     "output_type": "display_data"
    }
   ],
   "source": [
    "%matplotlib inline  \n",
    "\n",
    "import numpy as np\n",
    "import matplotlib.pyplot as plt\n",
    "\n",
    "def sigmoid(z):\n",
    "    return 1 / (1 + np.exp(-z))\n",
    "\n",
    "def relu(z):\n",
    "    return np.maximum(0, z)\n",
    "\n",
    "z = np.linspace(-5, 5, 200)\n",
    "\n",
    "plt.subplot(221)\n",
    "plt.plot(z, np.sign(z), \"r-\", linewidth=1)\n",
    "plt.title('Step Function')\n",
    "plt.axis([-5, 5, -1.2, 1.2])\n",
    "plt.grid(True)\n",
    "\n",
    "plt.subplot(222)\n",
    "plt.plot(z, sigmoid(z), \"g--\", linewidth=2)\n",
    "plt.title('Sigmoid')\n",
    "plt.axis([-5, 5, -1.2, 1.2])\n",
    "plt.grid(True)\n",
    "\n",
    "plt.subplot(223)\n",
    "plt.plot(z, np.tanh(z), \"b-\", linewidth=2)\n",
    "plt.title('Hyperbolic Tangent')\n",
    "plt.axis([-5, 5, -1.2, 1.2])\n",
    "plt.grid(True)\n",
    "\n",
    "plt.subplot(224)\n",
    "plt.plot(z, relu(z), \"m:\", linewidth=2)\n",
    "plt.title('ReLU')\n",
    "plt.axis([-5, 5, -1.2, 1.2])\n",
    "plt.grid(True)\n",
    "\n",
    "plt.show()"
   ]
  },
  {
   "cell_type": "markdown",
   "metadata": {},
   "source": [
    "## E2.? The soft-max function\n",
    "Consider the following function of a vector $v = [v_1, v_2, \\ldots, v_n]$: \n",
    "$$f(v) = \\frac{\\exp(v)}{\\sum_{i}\\exp(v_i)}, $$\n",
    "where $\\exp(v_i) = e^{v_i}$, $\\exp(v) = [e^{v_1}, e^{v_2}, \\ldots, e^{v_n}]$ and $e \\approx 2.76$ (although you find the function ``np.exp()`` on numpy). This function is called softmax. Define a python function for softmax. "
   ]
  },
  {
   "cell_type": "code",
   "execution_count": null,
   "metadata": {},
   "outputs": [],
   "source": []
  },
  {
   "cell_type": "markdown",
   "metadata": {},
   "source": [
    "Now consider that you have a matrix $M$ and you want to compute the softmax of each column. How do you do it?"
   ]
  },
  {
   "cell_type": "code",
   "execution_count": null,
   "metadata": {},
   "outputs": [],
   "source": []
  }
 ],
 "metadata": {
  "kernelspec": {
   "display_name": "Python 3",
   "language": "python",
   "name": "python3"
  },
  "language_info": {
   "codemirror_mode": {
    "name": "ipython",
    "version": 3
   },
   "file_extension": ".py",
   "mimetype": "text/x-python",
   "name": "python",
   "nbconvert_exporter": "python",
   "pygments_lexer": "ipython3",
   "version": "3.6.8"
  }
 },
 "nbformat": 4,
 "nbformat_minor": 2
}
