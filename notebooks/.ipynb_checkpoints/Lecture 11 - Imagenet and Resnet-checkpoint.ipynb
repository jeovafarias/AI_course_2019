{
 "cells": [
  {
   "cell_type": "markdown",
   "metadata": {},
   "source": [
    "# 11. ImageNet and ResNet\n",
    "Well, most of the good things in life do not last forever... So, this is our last (and shortest) notebook! Enjoy it!"
   ]
  },
  {
   "cell_type": "markdown",
   "metadata": {},
   "source": [
    "## 11.1 Loading a pre-trained model\n",
    "First, import the following modules:"
   ]
  },
  {
   "cell_type": "code",
   "execution_count": null,
   "metadata": {},
   "outputs": [],
   "source": [
    "%matplotlib inline\n",
    "# The usual ones\n",
    "import matplotlib.pyplot as plt\n",
    "import numpy as np\n",
    "import tensorflow as tf\n",
    "\n",
    "# Leave this line here to avoid annoying warnings\n",
    "tf.logging.set_verbosity(tf.logging.ERROR)\n",
    "\n",
    "# Importing the models\n",
    "from keras.applications.resnet50 import ResNet50\n",
    "from keras.preprocessing import image\n",
    "from keras.applications.resnet50 import preprocess_input, decode_predictions"
   ]
  },
  {
   "cell_type": "markdown",
   "metadata": {},
   "source": [
    "We then want the ResNet model with its weights trained in the Imagenet dataset. Such a model is defined as following (it takes some time to download/load the weights): "
   ]
  },
  {
   "cell_type": "code",
   "execution_count": null,
   "metadata": {},
   "outputs": [],
   "source": [
    "model = ResNet50(weights='imagenet')"
   ]
  },
  {
   "cell_type": "markdown",
   "metadata": {},
   "source": [
    "We now need to load and process an image. We do the following:"
   ]
  },
  {
   "cell_type": "code",
   "execution_count": null,
   "metadata": {},
   "outputs": [],
   "source": [
    "# This is the path to the target image:\n",
    "img_path = \"images/some_animal.jpg\"\n",
    "\n",
    "# We need to make it's size standarlized as 224x224 \n",
    "processed_img = image.load_img(img_path, target_size=(224, 224))\n",
    "\n",
    "# Now we make it as vector and do some more preprocessing\n",
    "img_vector = image.img_to_array(processed_img)\n",
    "img_vector = np.expand_dims(img_vector, axis=0)\n",
    "img_vector = preprocess_input(img_vector)"
   ]
  },
  {
   "cell_type": "markdown",
   "metadata": {},
   "source": [
    "## 10.2 Prediction\n",
    "The class prediction is simple, just as yesterday:"
   ]
  },
  {
   "cell_type": "code",
   "execution_count": null,
   "metadata": {},
   "outputs": [],
   "source": [
    "prediction = model.predict(img_vector)"
   ]
  },
  {
   "cell_type": "markdown",
   "metadata": {},
   "source": [
    "Now we can decode the prediction automatically using the following command."
   ]
  },
  {
   "cell_type": "code",
   "execution_count": null,
   "metadata": {},
   "outputs": [],
   "source": [
    "final_prediction = decode_predictions(prediction, top=5)[0][0]  # Don't mind these zeros at the end\n",
    "print(final_prediction)"
   ]
  },
  {
   "cell_type": "markdown",
   "metadata": {},
   "source": [
    "## 10.3 Plotting the final prediction\n",
    "What does ``final_prediction`` tell you? Show the image with its class and confidence level in its title as we did yesterday. Also, download any image you want in the internet and check how good this classifier is! If you want, make a function ``classify_image(image)`` that does that!"
   ]
  },
  {
   "cell_type": "code",
   "execution_count": null,
   "metadata": {},
   "outputs": [],
   "source": [
    "# Use this code to get the origibal image before the pre processing step.\n",
    "original_img = plt.imread(img_path)\n",
    "plt.imshow(original_img)\n",
    "\n",
    "# Your code goes here"
   ]
  },
  {
   "cell_type": "markdown",
   "metadata": {},
   "source": [
    "Yo guys, that's it for today! "
   ]
  }
 ],
 "metadata": {
  "kernelspec": {
   "display_name": "Python 3",
   "language": "python",
   "name": "python3"
  },
  "language_info": {
   "codemirror_mode": {
    "name": "ipython",
    "version": 3
   },
   "file_extension": ".py",
   "mimetype": "text/x-python",
   "name": "python",
   "nbconvert_exporter": "python",
   "pygments_lexer": "ipython3",
   "version": "3.6.8"
  }
 },
 "nbformat": 4,
 "nbformat_minor": 2
}
