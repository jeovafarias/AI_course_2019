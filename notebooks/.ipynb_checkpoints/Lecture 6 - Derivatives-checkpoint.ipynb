{
 "cells": [
  {
   "cell_type": "markdown",
   "metadata": {},
   "source": [
    "# 6. Derivatives\n",
    "In this section we will give some basic ideas about derivatives that will be useful in the next classes! There won't be many details here since learning it should take at least one whole semester and we just have a day to cover it (╥﹏╥) ..."
   ]
  },
  {
   "cell_type": "markdown",
   "metadata": {},
   "source": [
    "## 6.1 The slope of strait line\n",
    "Well, let's begin with the basics. Using what you know of python, draw the points $p_0 = (x_0, y_0) = (1, 2)$ and $p_1 = (x_1, y_1) = (3, 3)$ in black. Set the marker size to 10 (check [this link](https://matplotlib.org/users/pyplot_tutorial.html) if you do not know how to do it)."
   ]
  },
  {
   "cell_type": "code",
   "execution_count": null,
   "metadata": {},
   "outputs": [],
   "source": [
    "%matplotlib inline\n",
    "import matplotlib.pyplot as plt\n",
    "\n",
    "p0 = [1, 2]\n",
    "p1 = [3, 3]\n",
    "\n",
    "# Your code goes here. It's just one line :)\n",
    "\n",
    "# Leave this part in your code\n",
    "ax = plt.gca()\n",
    "ax.set_aspect('equal')\n",
    "plt.rcParams['figure.figsize'] = [5, 5]\n",
    "plt.xlim(-0.1, 3.1)\n",
    "plt.ylim(-0.1, 3.1)\n",
    "plt.show()"
   ]
  },
  {
   "cell_type": "markdown",
   "metadata": {},
   "source": [
    "Now, draw a red dashed line that passes through these points. How do you do that? Hint.: Remember the equation of the straight line: $y = mx + b$."
   ]
  },
  {
   "cell_type": "code",
   "execution_count": null,
   "metadata": {},
   "outputs": [],
   "source": [
    "import numpy as np\n",
    "import matplotlib.pyplot as plt\n",
    "\n",
    "p0 = [1, 2]\n",
    "p1 = [3, 3]\n",
    "\n",
    "# Your code goes here.\n",
    "\n",
    "# Leave this part in your code\n",
    "ax = plt.gca()\n",
    "ax.set_aspect('equal')\n",
    "plt.rcParams['figure.figsize'] = [5, 5]\n",
    "plt.xlim(-0.1, 3.1)\n",
    "plt.ylim(-0.1, 3.1)\n",
    "plt.show()"
   ]
  },
  {
   "cell_type": "markdown",
   "metadata": {},
   "source": [
    "In order to compute the above picture, you had to compute the *slope* of that line. Create a function that returns that slope, given two points $p_0$ and $p_1$ in 2d (assert that in your code), and another function that draws the points and plots the line as above. Make the latter call the former."
   ]
  },
  {
   "cell_type": "code",
   "execution_count": null,
   "metadata": {},
   "outputs": [],
   "source": [
    "import numpy as np\n",
    "import matplotlib.pyplot as plt\n",
    "\n",
    "def compute_slope(p0, p1):\n",
    "    # Your code goes here.\n",
    "    return m\n",
    "\n",
    "def plot_line(p0, p1):\n",
    "    m = compute_slope(p0, p1)\n",
    "    # Your code goes here. \n",
    "    plt.show()\n",
    "    \n",
    "p0 = [1, 2]\n",
    "p1 = [3, 3]\n",
    "plot_line(p0, p1)"
   ]
  },
  {
   "cell_type": "markdown",
   "metadata": {},
   "source": [
    "Finally, choose a math function $f(x)$, e.g $f(x) = x^2$, and plot it. Then create a python function that receives $x_0$, $f$ and a number $\\epsilon$ (``epsilon``) and uses the above function with $p_0 = (x_0 + \\epsilon, f(x_0 + \\epsilon))$ and $p_1 = (x_0 - \\epsilon, f(x_0 - \\epsilon))$. This new function should also plot the point $(x_0, f(x_0))$. What happens if $epsilon$ gets very small? Obs.: Notice that, in Python, you can pass *functions* as arguments (inputs) to other functions!"
   ]
  },
  {
   "cell_type": "code",
   "execution_count": null,
   "metadata": {},
   "outputs": [],
   "source": [
    "import numpy as np\n",
    "import matplotlib.pyplot as plt\n",
    "\n",
    "def f(x):\n",
    "    return x^2\n",
    "\n",
    "# When you are done with f, try this function here:\n",
    "def f2(x):\n",
    "    return np.cos(-x) * x ** 2\n",
    "\n",
    "def plot_tangent(x0, f, epsilon):\n",
    "    # Your code goes here. \n",
    "\n",
    "# Plot f here\n",
    "x0 = 1\n",
    "epsilon = .1\n",
    "plot_tangent(x0, f, epsilon)\n",
    "\n",
    "# Leave this part in your code\n",
    "ax = plt.gca()\n",
    "ax.set_aspect('equal')\n",
    "plt.rcParams['figure.figsize'] = [10, 10]\n",
    "plt.xlim(min(x) - .1, max(x) + .1)\n",
    "plt.ylim(min(f(x)) - .1, max(f(x)) + .1)\n",
    "plt.show()"
   ]
  },
  {
   "cell_type": "markdown",
   "metadata": {},
   "source": [
    "## 6.2 Numerical derivatives of functions"
   ]
  },
  {
   "cell_type": "markdown",
   "metadata": {},
   "source": [
    "So, we saw in class that there are certain rules for differentiating functions. In this section, we'll show that that indeed work, at least numerically. To do so, create a function like the previous one, receiving $x_0$, $f$ and a number $\\epsilon$, but instead of plotting the line that you plotted, returns just it's slope. Use the function ``compute_slope()`` you previously coded. "
   ]
  },
  {
   "cell_type": "code",
   "execution_count": null,
   "metadata": {},
   "outputs": [],
   "source": [
    "%matplotlib inline\n",
    "import numpy as np\n",
    "import matplotlib.pyplot as plt\n",
    "\n",
    "def f(x):\n",
    "    return x^2\n",
    "\n",
    "def compute_tangent_slope(x0, f, epsilon):\n",
    "    # Your code goes here\n",
    "    return slope\n",
    "\n",
    "x0 = 1\n",
    "epsilon = .1\n",
    "print(compute_tangent_slope(x0, f, epsilon))"
   ]
  },
  {
   "cell_type": "markdown",
   "metadata": {},
   "source": [
    "Now, compute the derivative of $f(x)$ as in class (make a python function and call it ``der_f()``) and compare its value at $x_0$ with the above result. When you are done with $f(x) = x^2$, try $f(x) = \\cos(-x)x^2$."
   ]
  },
  {
   "cell_type": "code",
   "execution_count": null,
   "metadata": {},
   "outputs": [],
   "source": [
    "%matplotlib inline\n",
    "import numpy as np\n",
    "import matplotlib.pyplot as plt\n",
    "\n",
    "def f(x):\n",
    "    return x^2\n",
    "\n",
    "def der_f(x):\n",
    "    return # What is the derivative of f?\n",
    "\n",
    "x0 = 1\n",
    "epsilon = .1\n",
    "print(compute_tangent_slope(x0, f, epsilon))\n",
    "print(der_f(x0))"
   ]
  },
  {
   "cell_type": "markdown",
   "metadata": {},
   "source": [
    "Try that for different functions and diffentent $x_0$'s, but mainly test different $\\epsilon$'s. What happens as you decrease $\\epsilon$?"
   ]
  },
  {
   "cell_type": "markdown",
   "metadata": {},
   "source": [
    "## 6.3 Extrema of a function\n",
    "Ok! So, which points are those in which a function's derivative goes to zero? What do they represent for the function? Find the values for $x$ such that $f'(x)$ is zero (or close to zero) and plot the points $(x, f(x))$."
   ]
  },
  {
   "cell_type": "code",
   "execution_count": null,
   "metadata": {},
   "outputs": [],
   "source": [
    "%matplotlib inline\n",
    "import numpy as np\n",
    "import matplotlib.pyplot as plt\n",
    "\n",
    "def f(x):\n",
    "    return np.sin(x)\n",
    "\n",
    "def der_f(x):\n",
    "    return np.cos(x)\n",
    "\n",
    "x = np.arange(-4 * np.pi, 4 * np.pi, .02)\n",
    "y = der_f(x)\n",
    "\n",
    "# Your code goes here. You'll use scatter to plot the desired points.\n",
    "\n",
    "plt.plot(x, f(x))\n",
    "plt.show()"
   ]
  }
 ],
 "metadata": {
  "kernelspec": {
   "display_name": "Python 3",
   "language": "python",
   "name": "python3"
  },
  "language_info": {
   "codemirror_mode": {
    "name": "ipython",
    "version": 3
   },
   "file_extension": ".py",
   "mimetype": "text/x-python",
   "name": "python",
   "nbconvert_exporter": "python",
   "pygments_lexer": "ipython3",
   "version": "3.6.8"
  }
 },
 "nbformat": 4,
 "nbformat_minor": 2
}
