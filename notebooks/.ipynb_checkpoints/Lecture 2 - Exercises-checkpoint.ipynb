{
 "cells": [
  {
   "cell_type": "markdown",
   "metadata": {},
   "source": [
    "## Practice plotting in Python\n",
    "You are given the points ``p1 = [1, 1]``, ``p2 = [0, 1]``, ``p3 = [0, 0]`` and ``p4 = [1, 0]``. Using a scatter plot, plot them: "
   ]
  },
  {
   "cell_type": "code",
   "execution_count": null,
   "metadata": {},
   "outputs": [],
   "source": [
    "%matplotlib inline \n",
    "import matplotlib.pyplot as plt\n",
    "\n",
    "# Your code goes here"
   ]
  },
  {
   "cell_type": "markdown",
   "metadata": {},
   "source": [
    " Now, plot ``p1`` and ``p2`` with color blue and ``p3`` and ``p4`` with color red."
   ]
  },
  {
   "cell_type": "code",
   "execution_count": null,
   "metadata": {},
   "outputs": [],
   "source": [
    "%matplotlib inline \n",
    "import matplotlib.pyplot as plt\n",
    "\n",
    "# Your code goes here"
   ]
  },
  {
   "cell_type": "markdown",
   "metadata": {},
   "source": [
    "Now, draw a line that separates blues from the reds"
   ]
  },
  {
   "cell_type": "code",
   "execution_count": null,
   "metadata": {},
   "outputs": [],
   "source": [
    "%matplotlib inline \n",
    "import matplotlib.pyplot as plt\n",
    "\n",
    "# Your code goes here"
   ]
  },
  {
   "cell_type": "markdown",
   "metadata": {},
   "source": [
    "Now, plot ``p1`` and ``p3`` with color blue and ``p2`` and ``p4`` with color red. Try to draw a line that separates the different colors. Can you do it? If not, why?"
   ]
  },
  {
   "cell_type": "code",
   "execution_count": null,
   "metadata": {},
   "outputs": [],
   "source": [
    "%matplotlib inline \n",
    "import matplotlib.pyplot as plt\n",
    "\n",
    "# Your code goes here"
   ]
  },
  {
   "cell_type": "markdown",
   "metadata": {},
   "source": [
    "## Printing the rows of a matrix\n",
    "Define ``M = np.array([[1, 2, -1], [2, 1, 1], [1.5, 1.5, -1]])``. In a for loop, print each row separatelly, as\n",
    "\n",
    "``Row  0  is  [1 2 -1]``\n",
    "\n",
    "``Row  1  is  [2 1 1]``\n",
    "\n",
    "``Row  2  is  [1.5 1.5 -1]``"
   ]
  },
  {
   "cell_type": "code",
   "execution_count": null,
   "metadata": {},
   "outputs": [],
   "source": [
    "import numpy as np\n",
    "\n",
    "# Your code goes here"
   ]
  },
  {
   "cell_type": "markdown",
   "metadata": {},
   "source": [
    "Now, for each row of ``M``, use the scatter plot its two first coordinate/elements (For the ``M`` in the above question, you'd plot the points ``[1, 2]``, ``[2, 1]``, ``[2, 2]``)."
   ]
  },
  {
   "cell_type": "code",
   "execution_count": null,
   "metadata": {},
   "outputs": [],
   "source": [
    "import numpy as np\n",
    "\n",
    "# Your code goes here"
   ]
  },
  {
   "cell_type": "markdown",
   "metadata": {},
   "source": [
    "Now, for those rows whose last element is -1, scatter plot them in red. For those whose last element is +1, scatter plot them in blue."
   ]
  },
  {
   "cell_type": "code",
   "execution_count": null,
   "metadata": {},
   "outputs": [],
   "source": [
    "import numpy as np\n",
    "\n",
    "# Your code goes here"
   ]
  },
  {
   "cell_type": "markdown",
   "metadata": {},
   "source": [
    "## Plotting the line $w \\cdot x = 0$\n",
    "So, if $x = [1, x_1, x_2]$ and $w = [w_0, w_1, w_2]$, $w \\cdot x = 0$ is actually equals to $w_0 + x_1w_1 + x_2w_2 = 0$. If you define, say $w = [1, 1, 2]$, then you have the equation of a line. Plot it. Hint.: define $x_1$ as ``x1 = np.arange(-5, 5, .1)``."
   ]
  },
  {
   "cell_type": "code",
   "execution_count": null,
   "metadata": {},
   "outputs": [],
   "source": [
    "import numpy as np\n",
    "\n",
    "# Your code goes here"
   ]
  },
  {
   "cell_type": "markdown",
   "metadata": {},
   "source": [
    "Try it with diferent ``w``'s now."
   ]
  },
  {
   "cell_type": "markdown",
   "metadata": {},
   "source": [
    "## E2.1 The unique values of a vector\n",
    "Using just for loop, get the unique values in a vector. Ex.: for a vector ``v = [1, 1, 2, 3, 4, 3]``, the out put will be a vector ``u = [1, 2, 3, 4]``. Make it a function and do not use numpy. Also, make use of the code that checks if an element occurs from Monday?. Make it a function too."
   ]
  },
  {
   "cell_type": "code",
   "execution_count": null,
   "metadata": {},
   "outputs": [],
   "source": [
    "# Your code goes here"
   ]
  },
  {
   "cell_type": "markdown",
   "metadata": {},
   "source": [
    "## E2.2 Replacing values in a vector\n",
    "You are given a vector ``v`` and a number ``n``. Make a function that replaces all the occurrences of ``n`` in ``v`` by the number 1 and all the other elements by the number ``-1``. Ex.: if ``v = [1, 2, 1, 5, 2]`` and ``n = 2``, the output is ``v_new = [-1, 1, -1, -1, 1]``. Do not use numpy in this problem."
   ]
  },
  {
   "cell_type": "code",
   "execution_count": null,
   "metadata": {},
   "outputs": [],
   "source": [
    "# Your code goes here"
   ]
  },
  {
   "cell_type": "markdown",
   "metadata": {},
   "source": [
    "## E2.3 Returning the sign of a dot product\n",
    "You are given $x$ of length $d$ and $w$ of length $d + 1$. Make a function that returns the sign (if positive, return 1 and, if negative, return -1) of the expression $v \\cdot x + b$, where $v$ is $w$ up to the second to last element and $b$ is its last element. Use the function ``np.sign()``."
   ]
  },
  {
   "cell_type": "code",
   "execution_count": null,
   "metadata": {},
   "outputs": [],
   "source": [
    "import numpy as np\n",
    "\n",
    "# Your code goes here"
   ]
  },
  {
   "cell_type": "markdown",
   "metadata": {},
   "source": [
    "## E2.4 Operations on matrices column-wise\n",
    "### Maximum and minimum\n",
    "You are given a matrix ``M = np.array([[5, 3, 1], [4, 9, 5], [3, 6, 9]])``. Your task is to find the maximum and the maximum and the minimum values of each column and store them in two vectors (one for the maximum values and another one for the minumum values). Use ``np.max()`` and ``np.min()`` to do that. Google their documentation, if necessary."
   ]
  },
  {
   "cell_type": "code",
   "execution_count": null,
   "metadata": {},
   "outputs": [],
   "source": [
    "import numpy as np\n",
    "\n",
    "# Your code goes here"
   ]
  },
  {
   "cell_type": "markdown",
   "metadata": {},
   "source": [
    "### Indices of the maximum and minimum values\n",
    "Now, get the indices of the maximum and minimum values in each column in ``M``. Now use ``np.argmax()`` and ``np.argmin()``."
   ]
  },
  {
   "cell_type": "code",
   "execution_count": null,
   "metadata": {},
   "outputs": [],
   "source": [
    "import numpy as np\n",
    "\n",
    "# Your code goes here"
   ]
  },
  {
   "cell_type": "markdown",
   "metadata": {},
   "source": [
    "### Summing and Averaging\n",
    "Compute the sum and the average of each column. Use ``np.sum()`` and ``np.mean()``"
   ]
  },
  {
   "cell_type": "code",
   "execution_count": null,
   "metadata": {},
   "outputs": [],
   "source": [
    "import numpy as np\n",
    "\n",
    "# Your code goes here"
   ]
  },
  {
   "cell_type": "markdown",
   "metadata": {},
   "source": [
    "## E2.5 One-hot\n",
    "The One-Hot representation of a vector of integers $v$ that whose range is from $0$ to $m-1$ (each element on $v$ is a number between $0$ and $m-1$) is a binary matrix $M$ (zeros and ones) of size $m \\times n$ such that $M_{i, j} = 1$ if $v_j = i$. Example: If $v = [0, 1, 2, 1]$, then $M = \\begin{bmatrix} 1 & 0 & 0 & 0 \\\\ 0 & 1 & 0 & 1 \\\\ 0 & 0 & 1 & 0  \\end{bmatrix}$. Write a function ``one_hot(v)`` that returns the on hot representation of a vector. Assume $v$ is always a vector of integers."
   ]
  },
  {
   "cell_type": "code",
   "execution_count": null,
   "metadata": {},
   "outputs": [],
   "source": [
    "import numpy as np\n",
    "\n",
    "# Your code goes here"
   ]
  },
  {
   "cell_type": "markdown",
   "metadata": {},
   "source": [
    "## E2.6 Drawing functions\n",
    "Here I'd like you to draw the following functions with $x$ ranging from $-5$ to $5$:\n",
    "\n",
    "- $f(x) = \\tanh(x)$ (Hyperbolic Tagent) , on a blue solid line;\n",
    "- $f(x) = 1/(1+e^{-z})$ (Sigmoid), on a green dashed line;\n",
    "- $f(x) = \\max(0, x)$ (ReLU - Rectified Linear Unit), on a magenta solid line;\n",
    "- $f(x) = \\text{sign}(x)$ (Step or Sign function), on a red dotted line.\n",
    "\n",
    "Also, add a grid to the plot, add a legend with the name of each function make the lines 2 mm wide and make the axis of the plot be limited by ``x_min = -5``, ``x_max = -5``, ``y_min = -1.2`` and ``y_max = 1.2``. Check this [this link](https://matplotlib.org/users/pyplot_tutorial.html) for more info or ask the teacher/TA if you have any question."
   ]
  },
  {
   "cell_type": "code",
   "execution_count": null,
   "metadata": {},
   "outputs": [],
   "source": [
    "%matplotlib inline  \n",
    "\n",
    "import numpy as np\n",
    "import matplotlib.pyplot as plt\n",
    "\n",
    "# Your code goes here"
   ]
  },
  {
   "cell_type": "markdown",
   "metadata": {},
   "source": [
    "Now, do the same as above, but in four subplots, one for each function. The lengends above will become the titles of each subplot. Keep the grid on and the same axis limits. You are free to choose the positioning of each of these plots."
   ]
  },
  {
   "cell_type": "code",
   "execution_count": null,
   "metadata": {},
   "outputs": [],
   "source": [
    "%matplotlib inline  \n",
    "import numpy as np\n",
    "import matplotlib.pyplot as plt\n",
    "\n",
    "# Your code goes here"
   ]
  },
  {
   "cell_type": "markdown",
   "metadata": {},
   "source": [
    "## E2.7 The soft-max function\n",
    "Consider the following function of a vector $v = [v_1, v_2, \\ldots, v_n]$: \n",
    "$$f(v) = \\frac{\\exp(v)}{\\sum_{i}\\exp(v_i)}, $$\n",
    "where $\\exp(v_i) = e^{v_i}$, $\\exp(v) = [e^{v_1}, e^{v_2}, \\ldots, e^{v_n}]$ and $e \\approx 2.76$ (although you find the function ``np.exp()`` on numpy). This function is called softmax. Define a python function for softmax. "
   ]
  },
  {
   "cell_type": "code",
   "execution_count": null,
   "metadata": {},
   "outputs": [],
   "source": [
    "import numpy as np\n",
    "\n",
    "# Your code goes here"
   ]
  },
  {
   "cell_type": "markdown",
   "metadata": {},
   "source": [
    "Now consider that you have a matrix $M$ and you want to compute the softmax of each column. How do you do it?"
   ]
  },
  {
   "cell_type": "code",
   "execution_count": null,
   "metadata": {},
   "outputs": [],
   "source": [
    "import numpy as np\n",
    "\n",
    "# Your code goes here"
   ]
  }
 ],
 "metadata": {
  "kernelspec": {
   "display_name": "Python 3",
   "language": "python",
   "name": "python3"
  },
  "language_info": {
   "codemirror_mode": {
    "name": "ipython",
    "version": 3
   },
   "file_extension": ".py",
   "mimetype": "text/x-python",
   "name": "python",
   "nbconvert_exporter": "python",
   "pygments_lexer": "ipython3",
   "version": "3.6.8"
  }
 },
 "nbformat": 4,
 "nbformat_minor": 2
}
