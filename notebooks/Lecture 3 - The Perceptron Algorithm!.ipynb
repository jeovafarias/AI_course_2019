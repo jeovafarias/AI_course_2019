{
 "cells": [
  {
   "cell_type": "markdown",
   "metadata": {},
   "source": [
    "# 3. The Perceptron Algorithm\n",
    "Now, that you are (hopefully) at ease with Python. we can start doing some practical Machine Learning. In order to prepare the ground for the Deep Learning algorithms, we'll code our first Neural Network based classification algorithm. Ah, also, in this notebook you'll code the algorithm yourself! hahaha"
   ]
  },
  {
   "cell_type": "markdown",
   "metadata": {},
   "source": [
    "## 3.1 The Data"
   ]
  },
  {
   "cell_type": "markdown",
   "metadata": {},
   "source": [
    "Ok, ~~our~~ your first task is to plot the data! In the folder */data* you'll find a text file called *data.txt*. It has a matrix in it and its first two columns are the $x$ and $y$ coordinates of the points in the dataset. Plot them :)"
   ]
  },
  {
   "cell_type": "code",
   "execution_count": null,
   "metadata": {},
   "outputs": [],
   "source": [
    "%matplotlib inline\n",
    "import numpy as np\n",
    "import matplotlib.pyplot as plt\n",
    "\n",
    "data = np.loadtxt('data/data.txt')\n",
    "\n",
    "# Your code goes here"
   ]
  },
  {
   "cell_type": "markdown",
   "metadata": {},
   "source": [
    "Now, the last column of that matrix is actually the class of each point, namely $+1$ or $-1$. How about marking the negatives as red minuses and the positives as blue pluses?"
   ]
  },
  {
   "cell_type": "code",
   "execution_count": null,
   "metadata": {},
   "outputs": [],
   "source": [
    "import numpy as np\n",
    "import matplotlib.pyplot as plt\n",
    "\n",
    "data = np.loadtxt('data/data.txt')\n",
    "\n",
    "# Your code goes here"
   ]
  },
  {
   "cell_type": "markdown",
   "metadata": {},
   "source": [
    "Almost there! Now, just plot a line in black that separates the pluses and the minuses. Try some of them :)"
   ]
  },
  {
   "cell_type": "code",
   "execution_count": null,
   "metadata": {},
   "outputs": [],
   "source": [
    "# Your code goes here:\n",
    "\n",
    "import numpy as np\n",
    "import matplotlib.pyplot as plt\n",
    "\n",
    "# Your code goes here"
   ]
  },
  {
   "cell_type": "markdown",
   "metadata": {},
   "source": [
    "Last Thing: make it a function! It receives the data in the format above above and a vector $w$ and plots the datapoints and a line whose points $x = [1, x_1, x_2]$ satisfy $w \\cdot x = 0$."
   ]
  },
  {
   "cell_type": "code",
   "execution_count": null,
   "metadata": {},
   "outputs": [],
   "source": [
    "# Your code goes here\n",
    "import numpy as np\n",
    "import matplotlib.pyplot as plt\n",
    "\n",
    "def plot_data(data, w):\n",
    "    # Your code goes here:\n",
    "\n",
    "data = np.loadtxt('data/data.txt')\n",
    "w = [-13, 20, 5]\n",
    "\n",
    "plot_data(data, w)"
   ]
  },
  {
   "cell_type": "markdown",
   "metadata": {},
   "source": [
    "## 3.2 The Algorithm"
   ]
  },
  {
   "cell_type": "markdown",
   "metadata": {},
   "source": [
    "Let's get the data ready first. Notice that we receive a matrix with the data points and the classes. Lets separate them in two different variables: ``X`` for the points and ``classes`` for the classes. Make it a function with just ``data`` as an argument.  Finally, using ``np.shape`` define the \"shape\" of the data by typing ``n, d = np.shape(X)``. What is ``n`` and what is ``d`` in this case?"
   ]
  },
  {
   "cell_type": "code",
   "execution_count": null,
   "metadata": {},
   "outputs": [],
   "source": [
    "# Your code goes here\n",
    "import numpy as np\n",
    "\n",
    "def preprocess_data(data):\n",
    "    # Your code goes here\n",
    "    \n",
    "    return X, classes\n",
    "\n",
    "data = np.loadtxt('data/data.txt')\n",
    "X, classes = preprocess_data(data)\n",
    "n, d = np.shape(X)"
   ]
  },
  {
   "cell_type": "markdown",
   "metadata": {},
   "source": [
    "As we saw in class, add a *bias* to each datapoint. How do we do that? The functions ``np.concatenate`` and ``np.ones`` can be useful here. It's just one or two lines of code :)"
   ]
  },
  {
   "cell_type": "code",
   "execution_count": null,
   "metadata": {},
   "outputs": [],
   "source": [
    "def add_bias(X):\n",
    "    # Your code goes here\n",
    "\n",
    "data = np.loadtxt('data/data.txt')\n",
    "X, classes = preprocess_data(data)\n",
    "X = add_bias(X)"
   ]
  },
  {
   "cell_type": "markdown",
   "metadata": {},
   "source": [
    "Now that you have ``X`` and the classes ``classes``, let's initialize a vector ``w`` somehow (how about using ``np.ones``) and go over the data as in the algorithm we talked about? Ah, also print the data and plot the line using the function you coded in 3.1. Try to figure out what is the value of $b$ :)."
   ]
  },
  {
   "cell_type": "code",
   "execution_count": null,
   "metadata": {},
   "outputs": [],
   "source": [
    "# Your code goes here\n",
    "data = np.loadtxt('data/data.txt')\n",
    "n, d = np.shape(X)\n",
    "X, classes = preprocess_data(data)\n",
    "X = add_bias(X)\n",
    "\n",
    "# Your code goes here\n",
    "\n",
    "plot_data(data, w)"
   ]
  },
  {
   "cell_type": "markdown",
   "metadata": {},
   "source": [
    "Pretty decent job, isn't it? Not perfect tho! How about going over the data more than one? Try to do it over 30 epochs. Ah, make it a function like that:"
   ]
  },
  {
   "cell_type": "code",
   "execution_count": null,
   "metadata": {},
   "outputs": [],
   "source": [
    "import numpy as np\n",
    "import matplotlib.pyplot as plt\n",
    "\n",
    "def perceptron(X, classes):\n",
    "    # Your code goes here\n",
    "    return w\n",
    "\n",
    "D = np.loadtxt('data/data.txt')\n",
    "\n",
    "X, classes = preprocess_data(D)\n",
    "w = perceptron(X, classes)\n",
    "plot_data(data, w)"
   ]
  },
  {
   "cell_type": "markdown",
   "metadata": {},
   "source": [
    "WOW! That's it, the perceptron algorithm, the first step towards Deep Learning! "
   ]
  }
 ],
 "metadata": {
  "kernelspec": {
   "display_name": "Python 3",
   "language": "python",
   "name": "python3"
  },
  "language_info": {
   "codemirror_mode": {
    "name": "ipython",
    "version": 3
   },
   "file_extension": ".py",
   "mimetype": "text/x-python",
   "name": "python",
   "nbconvert_exporter": "python",
   "pygments_lexer": "ipython3",
   "version": "3.6.8"
  }
 },
 "nbformat": 4,
 "nbformat_minor": 2
}
