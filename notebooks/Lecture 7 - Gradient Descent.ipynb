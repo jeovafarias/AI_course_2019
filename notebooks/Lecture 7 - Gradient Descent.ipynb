{
 "cells": [
  {
   "cell_type": "markdown",
   "metadata": {},
   "source": [
    "# 7. Gradient Descent"
   ]
  },
  {
   "cell_type": "markdown",
   "metadata": {},
   "source": [
    "How can we find the extrema of a function, say its lowest value? Let's get there step by step. First of all, create a python function that plots a function $f(x)$ in a certain interval (say -2 to 2) and a point at $(x, f(x))$. "
   ]
  },
  {
   "cell_type": "code",
   "execution_count": null,
   "metadata": {},
   "outputs": [],
   "source": [
    "%matplotlib inline\n",
    "import numpy as np\n",
    "import matplotlib.pyplot as plt\n",
    "\n",
    "def plot_function_n_x(f, x):\n",
    "    # Your code goes here\n",
    "    plt.show()\n",
    "\n",
    "def f(x):\n",
    "    return x ** 2\n",
    "\n",
    "x = 2\n",
    "plot_function_n_x(f, x)"
   ]
  },
  {
   "cell_type": "markdown",
   "metadata": {},
   "source": [
    "Now, compute the minimum of the math function using the $Gradient Descent - v2$ we talked about in class. As you know, you'll need to iterate it in a for loop in order to do so. Plot the function and the current point using ``plot_function_n_x`` as in the code and also keep track of the value of $f(x)$ in a list. Plot this list at the end and give it a title, so it will be different from the other plots. "
   ]
  },
  {
   "cell_type": "code",
   "execution_count": null,
   "metadata": {},
   "outputs": [],
   "source": [
    "%matplotlib inline\n",
    "import numpy as np\n",
    "import matplotlib.pyplot as plt\n",
    "from IPython import display\n",
    "import time\n",
    "\n",
    "\n",
    "def f(x):\n",
    "    return x ** 2\n",
    "\n",
    "def der_f(x):\n",
    "    return 2 * x\n",
    "\n",
    "x = 2.1\n",
    "step = .2\n",
    "n_steps = 30\n",
    "\n",
    "# Your code goes here\n",
    "\n",
    "# Leave this next chunk at the end of the for loop (*inside it*)\n",
    "display.clear_output(wait=True)\n",
    "time.sleep(0.2)\n",
    "plot_function_n_x(f, x)\n",
    "\n",
    "# Plot your list of values of f(x) here"
   ]
  },
  {
   "cell_type": "markdown",
   "metadata": {},
   "source": [
    "Now, implement the $Gradient Descent - Final$ we discussed in class. Compare it with the one above. What do you think is different in their results?"
   ]
  },
  {
   "cell_type": "code",
   "execution_count": null,
   "metadata": {},
   "outputs": [],
   "source": [
    "%matplotlib inline\n",
    "import numpy as np\n",
    "import matplotlib.pyplot as plt\n",
    "from IPython import display\n",
    "import time\n",
    "\n",
    "\n",
    "def f(x):\n",
    "    return x ** 2\n",
    "\n",
    "def der_f(x):\n",
    "    return 2 * x\n",
    "\n",
    "x = 2\n",
    "step = .1\n",
    "n_steps = 30\n",
    "\n",
    "# Your code goes here\n",
    "    \n",
    "# Leave this next chunk at the end of the for loop (*inside it*)\n",
    "display.clear_output(wait=True)\n",
    "time.sleep(0.2)\n",
    "plot_function_n_x(f, x)\n",
    "        \n",
    "# Plot your list of values of f(x) here"
   ]
  },
  {
   "cell_type": "markdown",
   "metadata": {},
   "source": [
    "Now, imagine that you do not know the number of steps to take. How can you stop the iteration *automatically*. Hint.: you can set the number of steps to be very high and don't go through all of them or use a ``while`` loop (ask for help if you do not know what it is). You'll also need to define a parameter called ``precision``."
   ]
  },
  {
   "cell_type": "code",
   "execution_count": null,
   "metadata": {},
   "outputs": [],
   "source": [
    "%matplotlib inline\n",
    "import numpy as np\n",
    "import matplotlib.pyplot as plt\n",
    "\n",
    "def f(x):\n",
    "    return x ** 2\n",
    "\n",
    "def der_f(x):\n",
    "    return 2 * x\n",
    "\n",
    "x = 2\n",
    "step = .1\n",
    "precision = 1e-5\n",
    "n_steps = 10000\n",
    "\n",
    "# Your code goes here\n",
    "    \n",
    "# Leave this next chunk at the end of the for loop (*inside it*)\n",
    "display.clear_output(wait=True)\n",
    "time.sleep(0.2)\n",
    "plot_function_n_x(f, x)\n",
    "        \n",
    "# Plot your list of values of f(x) here"
   ]
  }
 ],
 "metadata": {
  "kernelspec": {
   "display_name": "Python 3",
   "language": "python",
   "name": "python3"
  },
  "language_info": {
   "codemirror_mode": {
    "name": "ipython",
    "version": 3
   },
   "file_extension": ".py",
   "mimetype": "text/x-python",
   "name": "python",
   "nbconvert_exporter": "python",
   "pygments_lexer": "ipython3",
   "version": "3.6.8"
  }
 },
 "nbformat": 4,
 "nbformat_minor": 2
}
