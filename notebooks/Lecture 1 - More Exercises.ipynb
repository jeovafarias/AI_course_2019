{
 "cells": [
  {
   "cell_type": "markdown",
   "metadata": {},
   "source": [
    "# Lecture 1 Exercises\n",
    "\n",
    "Now that you're equipped with some pretty powerful tools, let's see what they can do!"
   ]
  },
  {
   "cell_type": "markdown",
   "metadata": {},
   "source": [
    "## Introduce yourself\n",
    "1. Create the variables \"first\" and \"last\" to make the program below print your name!"
   ]
  },
  {
   "cell_type": "code",
   "execution_count": 59,
   "metadata": {},
   "outputs": [
    {
     "name": "stdout",
     "output_type": "stream",
     "text": [
      "My name is G W , and I'm becoming a Python master!\n",
      "My name is GW, and I'm becoming a Python master too!\n"
     ]
    }
   ],
   "source": [
    "# create the vars here:\n",
    "first = \"G\"\n",
    "last = \"W\"\n",
    "print(\"My name is\",first,last,\", and I'm becoming a Python master!\")\n",
    "# notice the difference in output from this print statement. Here we used \"string concatenation\"\n",
    "print(\"My name is \"+first+last+\", and I'm becoming a Python master too!\")"
   ]
  },
  {
   "cell_type": "markdown",
   "metadata": {},
   "source": [
    "What types of variables are first and last?\n",
    "1. print the type of first and last below\n",
    "2. check that both are \"str\" type"
   ]
  },
  {
   "cell_type": "code",
   "execution_count": 15,
   "metadata": {},
   "outputs": [],
   "source": [
    "# print the types here\n"
   ]
  },
  {
   "cell_type": "markdown",
   "metadata": {},
   "source": [
    "## More Printing\n",
    "Using only the variables, hours=3 and days=15, for numbers, write a Python program to print: \"3 x 15 = 45 hours of learning computer science!\""
   ]
  },
  {
   "cell_type": "markdown",
   "metadata": {},
   "source": [
    "hint: There are a couple of ways to do this. Try string concatentation and convert the numbers to strings using str()"
   ]
  },
  {
   "cell_type": "code",
   "execution_count": null,
   "metadata": {},
   "outputs": [],
   "source": [
    "# given vars\n",
    "hours = 3\n",
    "days = 15"
   ]
  },
  {
   "cell_type": "markdown",
   "metadata": {},
   "source": [
    "## Use those programming skills!\n",
    "You've been asked to find the area of many circles of different radii, but typing the formula into a calculator every time takes way too long! Instead, you've decided to write a program that calculates the area of a circle from its radius\n",
    "1. create a variable, \"r\", and set it equal to some radius\n",
    "2. create a variable, \"area\", and set it equal to your area calculation\n",
    "3. print the result such as \"your area is... <area>!\"\n",
    "4. test your code with the following values:"
   ]
  },
  {
   "cell_type": "markdown",
   "metadata": {},
   "source": [
    "- radius = 1 --> area = 3.1415\n",
    "- radius = 2 --> area = 12.566\n",
    "- radius = 50 -> area = 7853.75"
   ]
  },
  {
   "cell_type": "markdown",
   "metadata": {},
   "source": [
    "hint: the area of a circle is $A =\\pi r^2$"
   ]
  },
  {
   "cell_type": "code",
   "execution_count": 29,
   "metadata": {},
   "outputs": [],
   "source": [
    "# use this value for pi\n",
    "pi = 3.1415\n",
    "# variable that represents the radius\n",
    "\n",
    "# formula that calculates the area of a circle\n",
    "\n",
    "# print the result in a nicely formatted string\n"
   ]
  },
  {
   "cell_type": "markdown",
   "metadata": {},
   "source": [
    "## It's a hot day-- let's throw waterballoons!\n",
    "You'd like to have a waterballoon fight but there is a drought and water is expensive so you want to know how much it will cost to fill up the balloons. Model each waterballoon as a sphere, and figure how much it will cost to fill <i>n</i> number of waterballoons of radius <i>r</i> meters if the cost of water is <i>x</i> dollars per cubic meter\n",
    "1. fill in the program below with your solution\n",
    "2. test your code with the following values:"
   ]
  },
  {
   "cell_type": "markdown",
   "metadata": {},
   "source": [
    "-  r=1,n=1,x=1 --> cost= \\$4.19\n",
    "-  r=0.1,n=100,x=5 --> cost = \\$2.09"
   ]
  },
  {
   "cell_type": "markdown",
   "metadata": {},
   "source": [
    "hint: the volume of a sphere is $V = \\frac{4}{3} \\pi r^3$"
   ]
  },
  {
   "cell_type": "code",
   "execution_count": 40,
   "metadata": {},
   "outputs": [],
   "source": [
    "# use this value for pi\n",
    "pi = 3.1415\n",
    "# create the input variables, \"r\", \"n\", and \"x\" and set them to inital values of your choice\n",
    "\n",
    "# calculate the volume of a single waterballoon \n",
    "\n",
    "# calculate the total volume of water needed\n",
    "\n",
    "# calculate the total cost of water\n",
    "\n",
    "# round the result to the nearest penny (two decimal places)\n",
    "# hint: google \"how to round in python 3\" and find information on the function round() (we'll talk more about functions later)\n",
    "\n",
    "# print the results in a nicely formatted string\n"
   ]
  },
  {
   "cell_type": "markdown",
   "metadata": {},
   "source": [
    "## Conversions\n",
    "Since it's so hot outside the weather channel says it's a record high temperature! The problem is that the temperature is displayed in Celsius but your friend only knows Farenheit! Write a program that converts a temperature in Celsius to Farenheit.\n",
    "\n",
    "1. write a program to convert temperature from Celsius to Farenheit\n",
    "2. print the result in an elegant string: \"X degrees Celsius is Y degrees Farenheit\" where X and Y are the input and output, respectively\n",
    "2. test your code with the following values:"
   ]
  },
  {
   "cell_type": "markdown",
   "metadata": {},
   "source": [
    "- 0 --> \"0 degrees Celsius is 32.0 degrees Farenheit\"\n",
    "- 100 --> \"100 degrees Celcius is 212.0 degrees Farenheit\""
   ]
  },
  {
   "cell_type": "markdown",
   "metadata": {},
   "source": [
    "hint: $^{\\circ}F = \\frac{9}{5} ^{\\circ}C + 32$"
   ]
  },
  {
   "cell_type": "code",
   "execution_count": 61,
   "metadata": {},
   "outputs": [
    {
     "name": "stdout",
     "output_type": "stream",
     "text": [
      "212.0\n"
     ]
    }
   ],
   "source": []
  },
  {
   "cell_type": "markdown",
   "metadata": {},
   "source": [
    "## Cookies!\n",
    "Your friends recently found out that it's possible to bake cookies by placing cookie dough on a baking sheet on the dashboard of their car. Your friends ask you which days in the upcoming week it will be hot enough to bake cookies.\n",
    "You find out that if it's at least 35 degrees Celsius outside, then they will be able to bake cookies in their car in the sun (in about 5 hours). Given a list of upcoming temperatures, return a list of booleans of the same length that indicate whether or not your friends will be able to bake cookies on the corresponding day."
   ]
  },
  {
   "cell_type": "markdown",
   "metadata": {},
   "source": [
    "1. Using your knowledge of lists and forloops, write a program that converts the given five-day temperature forecast into a list of booleans of the same length indicating whether or not your friends can make cookies in their cars (and share with you, of course!)\n",
    "2. test the output of your code with the given forecast. The output should be [False,True,False,True,True]"
   ]
  },
  {
   "cell_type": "code",
   "execution_count": null,
   "metadata": {},
   "outputs": [],
   "source": [
    "forecast = [28,35,30,37,40]"
   ]
  },
  {
   "cell_type": "markdown",
   "metadata": {},
   "source": [
    "## Positive? Negative? Neither?!\n",
    "In this script, you're going to take a numeric input from the user and output whether that number is positive, negative, or zero. To make this a little more fun, we're going to introduce you to the Python function, input(), to get an input from the user (again, we'll explain function more later. Are you in suspense?!)"
   ]
  },
  {
   "cell_type": "markdown",
   "metadata": {},
   "source": [
    "Hint: one thing to note is that input() returns a string, and you'll probably want to compare the input to numbers. Can you think of two ways to convert a string to a number?"
   ]
  },
  {
   "cell_type": "markdown",
   "metadata": {},
   "source": [
    "1. Use the code below to store a number input from the user in the variable, <i>n</i>, then write your code to tell the user weather their number is positive, negative, or zero"
   ]
  },
  {
   "cell_type": "code",
   "execution_count": 18,
   "metadata": {},
   "outputs": [
    {
     "name": "stdout",
     "output_type": "stream",
     "text": [
      "Enter a number:  \n"
     ]
    }
   ],
   "source": [
    "# get the user's input\n",
    "n = input(\"Enter a number: \")\n",
    "# write your code here to and print to the user whether their number is positive, negative, or zero"
   ]
  },
  {
   "cell_type": "markdown",
   "metadata": {},
   "source": [
    "## Higher, lower\n",
    "Are you a good guesser? Let's play a game! You're going to choose a number between 1 and 100 and your classmate is going to try to guess what it is. Since there's a 1/100 chance that they'll guess right, you're going to give them some help. After each guess, you're going to let them know whether they were higher, lower, or right on your target number. Also, in order to be competitive you're going to keep track of how many guesses it takes them!"
   ]
  },
  {
   "cell_type": "markdown",
   "metadata": {},
   "source": [
    "1. Write a program that stores your target value and accepts user input while the user has not guessed correctly. After each guess, print whether the guess was higher, lower, or correct compared to your target number. After the use has guessed correctly, print out how many guesses it took them."
   ]
  },
  {
   "cell_type": "markdown",
   "metadata": {},
   "source": [
    "hint: You'll want to use a while() loop. The syntax is given, just change \"some condition\" to your condition! You'll also want to create an extra variable to increment each time the user takes a guess. A simple way to increase the value of a variable in python is:  my_variable += 1"
   ]
  },
  {
   "cell_type": "code",
   "execution_count": 74,
   "metadata": {},
   "outputs": [],
   "source": [
    "# TODO: fill in your target value\n",
    "target = 1\n",
    "# get the user's first input\n",
    "\n",
    "# loop through the following code while the user's guess is not equal to the target value\n",
    "while(some condition):\n",
    "    # write your code that responds to the users input here\n",
    "    # if the guess was wrong, get a new input and let the loop repeat\n",
    "    \n",
    "# after they've guessed right (the loop is broken) tell them how many guesses it took them"
   ]
  },
  {
   "cell_type": "markdown",
   "metadata": {},
   "source": [
    "## Mean, Median, Mode\n",
    "Important statistical infromation about sets of data include the mean, median and mode. Given a list of numbers, print these values for the list. Just a reminder that the median is the number(s) in the middle of the sorted list, the mode is the number or numbers that appear the most, and the mean is the average value."
   ]
  },
  {
   "cell_type": "markdown",
   "metadata": {},
   "source": [
    "Hints: \n",
    "- to sort a list, use the function: sorted(your_list) \n",
    "- to get the length of a list, use the function: len(your_list)\n",
    "- to find how many times a certain number appears in the list, use: your_list.count(some number)"
   ]
  },
  {
   "cell_type": "code",
   "execution_count": null,
   "metadata": {},
   "outputs": [],
   "source": []
  },
  {
   "cell_type": "markdown",
   "metadata": {},
   "source": [
    "## String Manipulation\n",
    "Strings are made up of characters. You can access any character in a string by indexing the string. For example, if you create the string variable, var1 = \"hello\" , you can create var2 = var1[0:4] to create a new string from the first four characters of var1. (oops, don't try this one! ;p)\n",
    "\n",
    "### Your Task\n",
    "In this exercise, you're given a string, giv, and you need to split the string into words, then use the characters of the words to create a string, out, that is equal to \"i love cs!\" Then print this string. You may use the variable, space, to add spaces between words.\n",
    "\n",
    "\n",
    "##### Hint 1: I recommend splitting the string into separate words, and then accessing the letters from the individual word strings\n",
    "##### Hint 2: You can index twice. For example, if I have a list of strings, I can index into one of the strings, and I can index into one of the letters of the string. For example, if my_string_list = [\"hi\", \"there\", \"you\"], then I can get the character \"r\" by typing my_string_list[1][3]\n",
    "##### Bonus: can you figure out how to capitalize the first letter?"
   ]
  },
  {
   "cell_type": "code",
   "execution_count": 14,
   "metadata": {},
   "outputs": [
    {
     "name": "stdout",
     "output_type": "stream",
     "text": [
      "i l\n"
     ]
    }
   ],
   "source": [
    "# given string:\n",
    "giv = \"the quick brown fox jumped over the lazy dog!\"\n",
    "space = \" \"\n",
    "# write your code here"
   ]
  },
  {
   "cell_type": "markdown",
   "metadata": {},
   "source": [
    "## Pig Latin\n",
    "Learning new languages is fun, especially because you can have conversations that most people can't understand. Pig Latin is not exactly a language, but it provides a formula to conceal English words in a way that only someone else who knows the formula can understand.\n",
    "\n",
    "#### So, here's the formula (from wikipedia):\n",
    "1. For words that begin with consonant sounds, all letters before the initial vowel are placed at the end of the word sequence. Then, \"ay\" is added, as in the following examples:<br/>\n",
    "\"pig\" = \"igpay\"<br/>\n",
    "\"latin\" = \"atinlay\"<br/>\n",
    "\"banana\" = \"ananabay\"<br/>\n",
    "\"happy\" = \"appyhay\"<br/>\n",
    "\"duck\" = \"uckday\"<br/>\n",
    "\"me\" = \"emay\"<br/>\n",
    "\"too\" = \"ootay\"<br/>\n",
    "”bagel” = “agelbay”<br/>\n",
    "\n",
    "2. When words begin with consonant clusters (multiple consonants that form one sound), the whole sound is added to the end. hen, \"ay\" is added, as in the following examples:<br/>\n",
    "\"smile\" = \"ilesmay\"<br/>\n",
    "\"string\" = \"ingstray\"<br/>\n",
    "\"stupid\" = \"upidstay\"<br/>\n",
    "\"glove\" = \"oveglay\"<br/>\n",
    "\"trash\" = \"ashtray\"<br/>\n",
    "\"floor\"= \"oorflay\"<br/>\n",
    "\"store\"= \"orestay\"<br/>\n",
    "\n",
    "3. For words that begin with vowel sounds, one just adds just \"way\". Examples are:\n",
    "\"eat\" = \"eatway\"<br/>\n",
    "\"omelet\" = omeletway\"<br/>\n",
    "\"are\" = \"areway\"<br/>\n",
    "\"egg\" = \"eggway\"<br/>\n",
    "\"explain\" = \"explainway\"<br/>\n",
    "\"always\" = \"alwaysway\"<br/>\n",
    "\"ends\" = \"endsway\"<br/>\n",
    "\"honest\" = \"honestway\"<br/>\n",
    "\"I\"= \"Iway\"<br/>\n",
    "\n",
    "### Your Task\n",
    "Your task is to create a Pig Latin translator that accepts a sentence from the user in English and then prints the Pig Latin translation of the sentence\n",
    "\n",
    "##### hint: use all of the skills you've learned up to this point! There are many ways to go about this, so take some time to think out how you want to implement it, and give it a try!"
   ]
  },
  {
   "cell_type": "code",
   "execution_count": 19,
   "metadata": {},
   "outputs": [
    {
     "name": "stdout",
     "output_type": "stream",
     "text": [
      "Enter a sentence:  \n"
     ]
    }
   ],
   "source": [
    "# Pig Latin Translator\n",
    "user_input = input(\"Enter a sentence: \")\n"
   ]
  }
 ],
 "metadata": {
  "kernelspec": {
   "display_name": "Python 3",
   "language": "python",
   "name": "python3"
  },
  "language_info": {
   "codemirror_mode": {
    "name": "ipython",
    "version": 3
   },
   "file_extension": ".py",
   "mimetype": "text/x-python",
   "name": "python",
   "nbconvert_exporter": "python",
   "pygments_lexer": "ipython3",
   "version": "3.6.7"
  }
 },
 "nbformat": 4,
 "nbformat_minor": 2
}
