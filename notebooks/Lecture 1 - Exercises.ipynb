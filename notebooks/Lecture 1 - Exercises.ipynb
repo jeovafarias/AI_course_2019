{
 "cells": [
  {
   "cell_type": "markdown",
   "metadata": {},
   "source": [
    "## E1.1 Summing the values of a vector\n",
    "Given a vector ``v``, code a for loop that sums its values. Also write a nice sentence as output (ex.: \"The sum of the values is 10\", or something like this)"
   ]
  },
  {
   "cell_type": "code",
   "execution_count": null,
   "metadata": {},
   "outputs": [],
   "source": [
    "v = [1, 2, 3, 4]\n",
    "\n",
    "# Your code goes here"
   ]
  },
  {
   "cell_type": "markdown",
   "metadata": {},
   "source": [
    "## E1.2 The number of elements in a vector\n",
    "Using a for loop compute how many elements are in a vector ``v``. Don't forget the nice sentence."
   ]
  },
  {
   "cell_type": "code",
   "execution_count": null,
   "metadata": {},
   "outputs": [],
   "source": [
    "v = [1, 2, 3, 4]\n",
    "\n",
    "# Your code goes here"
   ]
  },
  {
   "cell_type": "markdown",
   "metadata": {},
   "source": [
    "## E1.3 Checking if element is present\n",
    "You are given a vector ``v`` and a number ``n``. Check if ``n`` is in ``v`` using a for loop. Output a boolean, i.e, ``True`` or ``False``. The output here will be a sentence if the element is present or another sentence if it's not."
   ]
  },
  {
   "cell_type": "code",
   "execution_count": null,
   "metadata": {},
   "outputs": [],
   "source": [
    "v, n = [1, 2, 3, 4], 3\n",
    "\n",
    "# Your code goes here"
   ]
  },
  {
   "cell_type": "markdown",
   "metadata": {},
   "source": [
    "Now, if the ``n`` is present in ``v``, output the index in ``v`` in which it occurred. If it shows up twice or more, output its first occurrence."
   ]
  },
  {
   "cell_type": "code",
   "execution_count": null,
   "metadata": {},
   "outputs": [],
   "source": [
    "v, n = [1, 2, 3, 4], 3\n",
    "\n",
    "# Your code goes here"
   ]
  },
  {
   "cell_type": "markdown",
   "metadata": {},
   "source": [
    "Now, the same as above, but print ``n``'s last occurrence, if it occurs."
   ]
  },
  {
   "cell_type": "code",
   "execution_count": null,
   "metadata": {},
   "outputs": [],
   "source": [
    "v, n = [1, 2, 3, 3], 3\n",
    "\n",
    "# Your code goes here"
   ]
  },
  {
   "cell_type": "markdown",
   "metadata": {},
   "source": [
    "## E1.4 Maximum and minimum\n",
    "Compute the maximum and the minimum values of a vector ``v``. Don't forget the nice sentence (well, do it for all the other exercises too!)."
   ]
  },
  {
   "cell_type": "code",
   "execution_count": null,
   "metadata": {},
   "outputs": [],
   "source": [
    "v = [1, 2, 3, 4]\n",
    "\n",
    "# Your code goes here"
   ]
  },
  {
   "cell_type": "markdown",
   "metadata": {},
   "source": [
    "## E1.5 Average\n",
    "Take the average of the values in the vector ``v``."
   ]
  },
  {
   "cell_type": "code",
   "execution_count": null,
   "metadata": {},
   "outputs": [],
   "source": [
    "v, = [1, 2, 3, 4]\n",
    "\n",
    "# Your code goes here"
   ]
  },
  {
   "cell_type": "markdown",
   "metadata": {},
   "source": [
    "## E1.6 Dot product\n",
    "Given two vectors ``u`` and ``v``, compute their dot product. Also, assert that their sizes are the same."
   ]
  },
  {
   "cell_type": "code",
   "execution_count": null,
   "metadata": {},
   "outputs": [],
   "source": [
    "v = [1, 2, 3]\n",
    "u = [4, 5, 6]\n",
    "\n",
    "# Your code goes here"
   ]
  },
  {
   "cell_type": "markdown",
   "metadata": {},
   "source": [
    "## E1.7 Things you can do with dot products\n",
    "Using the dot product code you coded above, code the following operations:\n",
    "###  E1.7.2 Sum of the elements of $v$\n",
    "Hint.: Learn how to create a vector of ones of the size of $v$ first (if you know numpy, *don't use it!*). \n",
    "Obs.: Remember to use dot products"
   ]
  },
  {
   "cell_type": "code",
   "execution_count": null,
   "metadata": {},
   "outputs": [],
   "source": [
    "v = [1, 2, 3, 4]\n",
    "\n",
    "# Your code goes here"
   ]
  },
  {
   "cell_type": "markdown",
   "metadata": {},
   "source": [
    "###  E1.7.3 Average of the elements in  $v$\n",
    "Obs.: Remember to use dot products"
   ]
  },
  {
   "cell_type": "code",
   "execution_count": null,
   "metadata": {},
   "outputs": [],
   "source": [
    "v = [1, 2, 3, 4]\n",
    "\n",
    "# Your code goes here"
   ]
  },
  {
   "cell_type": "markdown",
   "metadata": {},
   "source": [
    "###  E1.7.4 Norm of $v$\n",
    "Obs.: Remember to use dot products"
   ]
  },
  {
   "cell_type": "code",
   "execution_count": null,
   "metadata": {},
   "outputs": [],
   "source": [
    "v = [1, 2, 3, 4]\n",
    "\n",
    "# Your code goes here"
   ]
  },
  {
   "cell_type": "markdown",
   "metadata": {},
   "source": [
    "###  E1.7.5 Weighted average of $v$ with weights $w$\n",
    "Obs.: Remember to use dot products"
   ]
  },
  {
   "cell_type": "code",
   "execution_count": null,
   "metadata": {},
   "outputs": [],
   "source": [
    "v = [1, 2, 3, 4]\n",
    "w = [5, 9, 7, 8]\n",
    "\n",
    "# Your code goes here"
   ]
  },
  {
   "cell_type": "markdown",
   "metadata": {},
   "source": [
    "###  E1.7.6 Indexing\n",
    "Here, you are given a vector ``v`` and an index ``i`` and you need to output the element at ``v[i]``. Also, assert that the index exists.\n",
    "Obs.: Remember to use dot products"
   ]
  },
  {
   "cell_type": "code",
   "execution_count": null,
   "metadata": {},
   "outputs": [],
   "source": [
    "v, i = [1, 2, 3, 4], 3\n",
    "\n",
    "# Your code goes here"
   ]
  },
  {
   "cell_type": "markdown",
   "metadata": {},
   "source": [
    "###  E1.7.7 Averaging the values in some indexes\n",
    "You are given a vector ``v`` and a list of indexes ``idxs`` and you want to find the average of the values at those indexes. How to do it?\n",
    "Obs.: Remember to use dot products"
   ]
  },
  {
   "cell_type": "code",
   "execution_count": null,
   "metadata": {},
   "outputs": [],
   "source": [
    "v = [1, 2, 3, 4],\n",
    "idxs = [1, 2, 3]\n",
    "\n",
    "# Your code goes here"
   ]
  }
 ],
 "metadata": {
  "kernelspec": {
   "display_name": "Python 3",
   "language": "python",
   "name": "python3"
  },
  "language_info": {
   "codemirror_mode": {
    "name": "ipython",
    "version": 3
   },
   "file_extension": ".py",
   "mimetype": "text/x-python",
   "name": "python",
   "nbconvert_exporter": "python",
   "pygments_lexer": "ipython3",
   "version": "3.6.8"
  }
 },
 "nbformat": 4,
 "nbformat_minor": 2
}
