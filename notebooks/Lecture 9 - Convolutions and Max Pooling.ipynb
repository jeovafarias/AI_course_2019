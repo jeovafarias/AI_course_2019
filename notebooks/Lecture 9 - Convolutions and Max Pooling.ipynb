{
 "cells": [
  {
   "cell_type": "markdown",
   "metadata": {},
   "source": [
    "# 8. Convolutions and Max-pooling\n",
    "Hi guys! We'll discuss this very important topic in math and engineering called convolutions! Although, I'm bringing a very simplified version of it here, we can already see its full potential in term of filtering! Ah, we are also talking about max-pooling, whose algorithm is similar to convolutions and it is important to Deep Learning blah blah blah... Let's get to work!"
   ]
  },
  {
   "cell_type": "markdown",
   "metadata": {},
   "source": [
    "# 8.1 Convolutions in 2d"
   ]
  },
  {
   "cell_type": "markdown",
   "metadata": {},
   "source": [
    "First of all, create a function ``dot_product_matrix(image_chunk, f)`` that multiplies two matrices element-wise and then sums up the results (like a dot product, but for matrices). Use the function ``np.multiply()`` or ``*`` (**do not use** ``np.dot()``) in that code."
   ]
  },
  {
   "cell_type": "code",
   "execution_count": null,
   "metadata": {},
   "outputs": [],
   "source": [
    "import numpy as np\n",
    "\n",
    "def dot_product_matrix(image_chunk, f)\n",
    "    return # Your code goes here\n",
    "\n",
    "f = np.ones((3, 3))/9\n",
    "image_chunk = np.array([[1, 2, 3], [4, 5, 6], [7, 8, 9]])\n",
    "result = dot_product_matrix(image_chunk, f)\n",
    "print(result)"
   ]
  },
  {
   "cell_type": "markdown",
   "metadata": {},
   "source": [
    "Here's an image, called ``image`` (dah!), and filter $f$. What happens when you convolve them? Using the concept of sliding window, convolve the image to the filter making use of ``dot_product_matrix(image_chunk, f)``. Plot the \"before and after\" using subplots."
   ]
  },
  {
   "cell_type": "code",
   "execution_count": null,
   "metadata": {},
   "outputs": [],
   "source": [
    "import numpy as np\n",
    "import matplotlib.pyplot as plt\n",
    "plt.rcParams['figure.figsize'] = [15, 5]\n",
    "\n",
    "image = plt.imread('images/animal_gray.png')\n",
    "f = np.ones((3, 3))/9\n",
    "\n",
    "## Your code goes here"
   ]
  },
  {
   "cell_type": "markdown",
   "metadata": {},
   "source": [
    "Now, create a function to do the convolution and try the following filters out with the given image :). What do they do?"
   ]
  },
  {
   "cell_type": "code",
   "execution_count": null,
   "metadata": {
    "scrolled": true
   },
   "outputs": [],
   "source": [
    "import numpy as np\n",
    "import matplotlib.pyplot as plt\n",
    "plt.rcParams['figure.figsize'] = [15, 5]\n",
    "\n",
    "image = plt.imread('images/circuit.png')\n",
    "f1 = np.array([[-1 , -1,  -1], \n",
    "               [-1,  8, -1],\n",
    "               [-1 , -1, -1]])\n",
    "f2 = np.array([[0 ,  0,  0], \n",
    "               [-1,  2, -1],\n",
    "               [0 ,  0,  0]])\n",
    "f3 = np.array([[0 , -1,  0], \n",
    "               [0,  2, 0],\n",
    "               [0 , -1,  0]])\n",
    "\n",
    "## Your code goes here"
   ]
  },
  {
   "cell_type": "markdown",
   "metadata": {},
   "source": [
    "Convolution in images allows us to perform an important task in Computer Vision called Image Denoising. Using the following filter generator and the convolution function above, compare the initial image to some that were convolved with the ``denoising_filter(n)`` for some different ``n``'s (like 2) in a series of subplots."
   ]
  },
  {
   "cell_type": "code",
   "execution_count": null,
   "metadata": {},
   "outputs": [],
   "source": [
    "import numpy as np\n",
    "import matplotlib.pyplot as plt\n",
    "plt.rcParams['figure.figsize'] = [15, 5]\n",
    "\n",
    "def denoising_filter(n):\n",
    "    assert n%2 == 1 and n > 0\n",
    "    return np.ones(n)/n ** 2\n",
    "\n",
    "initial_image = plt.imread('images/cameraman_noisy.png')\n",
    "\n",
    "# Your code goes here"
   ]
  },
  {
   "cell_type": "markdown",
   "metadata": {},
   "source": [
    "## 8.2 Template Matching\n",
    "The same concept can be used in the task of looking for specific objects that are are similar to a given template. This task is called template matching. First of all, (sub)plot the following images."
   ]
  },
  {
   "cell_type": "code",
   "execution_count": null,
   "metadata": {},
   "outputs": [],
   "source": [
    "import numpy as np\n",
    "import matplotlib.pyplot as plt\n",
    "plt.rcParams['figure.figsize'] = [15, 5]\n",
    "\n",
    "img = plt.imread(\"images/building.png\")\n",
    "template = plt.imread(\"images/building_window.png\")\n",
    "\n",
    "## Your code goes here"
   ]
  },
  {
   "cell_type": "markdown",
   "metadata": {},
   "source": [
    "Notice that the template repeats a bunch of times in the image. Let's proceed and compute a matrix of responses, i.e., as the the sliding window moves, for each (reachable) position $(x, y)$ in the image, store the value of the ``dot_product_matrix()``. First of all, make the mean of the template zero (I do that for you in the code). At the end, plot the result. Ah, be careful with the border cases (notice that the template is not squared)!"
   ]
  },
  {
   "cell_type": "code",
   "execution_count": null,
   "metadata": {},
   "outputs": [],
   "source": [
    "import numpy as np\n",
    "import matplotlib.pyplot as plt\n",
    "\n",
    "img = plt.imread(\"images/building.png\")\n",
    "template = plt.imread(\"images/building_window.png\")\n",
    "template = template - np.mean(template)\n",
    "\n",
    "r_temp, c_temp = np.shape(template)\n",
    "r_img, c_img = np.shape(img)\n",
    "\n",
    "# Your code goes here"
   ]
  },
  {
   "cell_type": "markdown",
   "metadata": {},
   "source": [
    "Now we need to do something very important called **non-maxima suppression** (just a fancy name for finding the pixels whose response is high enough). For that, first normalize the matrix of responses in a way that its values are comprised between 0 and 1 (how do you do it?). Call this function ``normalization()``. Then, given the ``threshold`` typed in the code, plot a new matrix whose entries are 1 only for the entries in the normalized response matrix that are higher than the threshold. "
   ]
  },
  {
   "cell_type": "code",
   "execution_count": null,
   "metadata": {},
   "outputs": [],
   "source": [
    "import numpy as np\n",
    "import matplotlib.pyplot as plt\n",
    "\n",
    "def normalization(M):\n",
    "    return # Your code goes here\n",
    "\n",
    "def non_maxima_supression(responses, threshold):\n",
    "    # Your code goes here            \n",
    "    return non_maxima_supprimed_responses\n",
    "\n",
    "img = plt.imread(\"images/building.png\")\n",
    "template = plt.imread(\"images/building_window.png\")\n",
    "threshold = .75\n",
    "\n",
    "r_temp, c_temp = np.shape(template)\n",
    "r_img, c_img = np.shape(img)\n",
    "template = template - np.mean(template)\n",
    "\n",
    "# Your code goes here (just repeat the for loops you have in the previous block and \n",
    "# do the normalization and the non-maxima suppression on the matrix you computed)"
   ]
  },
  {
   "cell_type": "markdown",
   "metadata": {},
   "source": [
    "Lastly, simply make use of the code ``show_detections()`` I provide and check out the template matchings!"
   ]
  },
  {
   "cell_type": "code",
   "execution_count": null,
   "metadata": {},
   "outputs": [],
   "source": [
    "import numpy as np\n",
    "import matplotlib.pyplot as plt\n",
    "import matplotlib.patches as patches\n",
    "\n",
    "def show_detections(img, template, non_maxima_suppression_matrix):\n",
    "    r, c = np.shape(img)\n",
    "    r_temp, c_temp = np.shape(template)\n",
    "    plt.imshow(img)\n",
    "    ax = plt.gca()\n",
    "    for i in range(r):\n",
    "        for j in range(c):\n",
    "            if non_maxima_suppression_matrix[i, j] == 1:\n",
    "                rect = patches.Rectangle((j - int(c_temp/2), i - int(r_temp/2)), c_temp, r_temp, \n",
    "                                         edgecolor='r', facecolor='none')\n",
    "                ax.add_patch(rect)\n",
    "                \n",
    "    plt.show()\n",
    "\n",
    "\n",
    "img = plt.imread(\"images/building.png\")\n",
    "template = plt.imread(\"images/building_window.png\")\n",
    "threshold = .75\n",
    "\n",
    "# Your code goes here\n",
    "responses = normalization(responses)\n",
    "non_maxima_suppression_matrix = non_maxima_supression(responses, threshold)\n",
    "show_detections(img, template, non_maxima_suppression_matrix)\n",
    "plt.show()"
   ]
  },
  {
   "cell_type": "markdown",
   "metadata": {},
   "source": [
    "## 8.3 Max pooling\n",
    "The idea of max pooling is very simple, take an image and as you slide on the image create a grid with as many squares of size ``s`` you can. In each grid cell, compute the maximum vale and return a matrix whose entries are these values at each cell. In a sense, you can think of it as a way of decreasing the original image resolution."
   ]
  },
  {
   "cell_type": "code",
   "execution_count": null,
   "metadata": {},
   "outputs": [],
   "source": [
    "import numpy as np\n",
    "import matplotlib.pyplot as plt\n",
    "plt.rcParams['figure.figsize'] = [15, 5]\n",
    "\n",
    "\n",
    "img = plt.imread(\"images/building.png\")\n",
    "s = 4\n",
    "r_img, c_img = np.shape(img)\n",
    "\n",
    "final_image = np.zeros((int(r_img/s), int(c_img/s)))\n",
    "x_idx = np.arange(int(s/2), r_img - int(s/2), s)\n",
    "y_idx = np.arange(int(s/2), c_img - int(s/2), s)\n",
    "for i, val_x in enumerate(x_idx):\n",
    "    for j, val_y in enumerate(y_idx):\n",
    "        final_image[i, j] = np.max(img[val_x - int(s/2): val_x + int(s/2) + 1,\n",
    "                                       val_y - int(s/2): val_y + int(s/2) + 1])\n",
    "        \n",
    "plt.subplot(1, 2, 1)\n",
    "plt.imshow(img)\n",
    "plt.subplot(1, 2, 2)\n",
    "plt.imshow(final_image)\n",
    "plt.show()"
   ]
  },
  {
   "cell_type": "markdown",
   "metadata": {},
   "source": [
    "Awesome! You completed this lecture!"
   ]
  }
 ],
 "metadata": {
  "kernelspec": {
   "display_name": "Python 3",
   "language": "python",
   "name": "python3"
  },
  "language_info": {
   "codemirror_mode": {
    "name": "ipython",
    "version": 3
   },
   "file_extension": ".py",
   "mimetype": "text/x-python",
   "name": "python",
   "nbconvert_exporter": "python",
   "pygments_lexer": "ipython3",
   "version": "3.6.8"
  }
 },
 "nbformat": 4,
 "nbformat_minor": 2
}
