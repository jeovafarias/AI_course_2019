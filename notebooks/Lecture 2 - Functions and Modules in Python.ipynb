{
 "cells": [
  {
   "cell_type": "markdown",
   "metadata": {},
   "source": [
    "# 2. Functions and Modules in Python\n",
    "So, now that we know the *basics* (yes, just the basics ◔_◔) about python, we can get fancier with <b>python modules</b> and taste a bit of its power!  Before that though, we need to know how to create and deal with python functions. Let's do it! "
   ]
  },
  {
   "cell_type": "markdown",
   "metadata": {},
   "source": [
    "## 2.1 Functions"
   ]
  },
  {
   "cell_type": "markdown",
   "metadata": {},
   "source": [
    "Functions are simply sequences of instructions that are executed when the function is invoked. When defined, they should begin with the keyword ``def`` and the following instructions are indented: "
   ]
  },
  {
   "cell_type": "code",
   "execution_count": null,
   "metadata": {},
   "outputs": [],
   "source": [
    "def hello_world():\n",
    "    string = \"Hello World!\"\n",
    "    print(string)\n",
    "    \n",
    "hello_world()"
   ]
  },
  {
   "cell_type": "markdown",
   "metadata": {},
   "source": [
    "Notice that the second and third lines of the above code are the only commands in the function since they're indented. On the other hand, the last line is not a part of the function, so it will be execute immediately after you hit \"run\" in this notebook. Also notice that you must define the function before you call it! The parenthesis also have an use: they gather the <b>inputs</b> of your function (in the above case, the function ``hello_world()`` didn't take any input). It can also have <b>outputs</b>. For that, you should place the keyword ``return`` before the desired output value/variables after the'be been computed. Here's some examples:"
   ]
  },
  {
   "cell_type": "code",
   "execution_count": null,
   "metadata": {},
   "outputs": [],
   "source": [
    "def fancy_hello_world(name):\n",
    "    string = \"Hello World! Hello, \" + str(name) + \"!\"\n",
    "    print(string)\n",
    "\n",
    "fancy_hello_world(\"My Love\")\n",
    "\n",
    "print(\" \")\n",
    "def fancier_hello_world(name):\n",
    "    string = \"Hello World! Hello, \" + str(name) + \"!\"\n",
    "    print(string)\n",
    "    return \"♥‿♥\"\n",
    "\n",
    "my_gf_reaction = fancier_hello_world(\"My Love\")\n",
    "print(my_gf_reaction)\n",
    "\n",
    "print(\" \")\n",
    "def even_fancier_hello_world(name):\n",
    "    string = \"Hello World! Hello, \" + str(name) + \"!\"\n",
    "    output_1 = \"♥‿♥\"\n",
    "    output_2 = \"ಠ_ಠ\"\n",
    "    print(string)\n",
    "    return output_1, output_2\n",
    "\n",
    "my_gf_reaction, her_dad_s_reaction = even_fancier_hello_world(\"My Love\")\n",
    "print(my_gf_reaction)\n",
    "print(her_dad_s_reaction)"
   ]
  },
  {
   "cell_type": "markdown",
   "metadata": {},
   "source": [
    "## 2.2 Modules\n",
    "A module is a Python file containing variables, functions and many more things. You can yourself create your own modules (as we *might* do in this class eventually), but the py community already provides a bunch of them that will turn out to be extremely important to us! Each module can be studied on a whole Summer@Brown class, but we'll give an overview of some of them here. If you ever have any problem at understanding a specific module their documentation (and Google Search) are there for you. "
   ]
  },
  {
   "cell_type": "markdown",
   "metadata": {},
   "source": [
    "In order to use the functions in a module, we first need to import it our code. We do that by typing  ``import`` and then the name of the module in the beginning of our code. In the code, we can access the module's functions by typing the module's name followed by a dot(``.``) and the function's name. Let's ``math``, a module with math functions and variables, as an example: "
   ]
  },
  {
   "cell_type": "code",
   "execution_count": null,
   "metadata": {},
   "outputs": [],
   "source": [
    "import math\n",
    "print(math.exp(math.log(2)))\n",
    "print(\"A kinda important number in math:\", math.pi)"
   ]
  },
  {
   "cell_type": "markdown",
   "metadata": {},
   "source": [
    "### 2.2.1 Numpy\n",
    "\n",
    "So, Numpy will probably be the module that you'll use the most as pythonians, specially if you do scientific computing. This modules has many (many many) functions from linear algebra (like the dot product). It will be very useful in our course, so you'll learn it as we go along in our meetings. I'll also use it now to show that we can also give an alias (\"nickname\") to any module with the keyword ``as`` after it is imported."
   ]
  },
  {
   "cell_type": "code",
   "execution_count": 3,
   "metadata": {},
   "outputs": [
    {
     "name": "stdout",
     "output_type": "stream",
     "text": [
      "[1. 1. 1. 1. 1.] ( <class 'numpy.ndarray'> )\n",
      "[5. 5. 5. 5. 5.]\n",
      "[4. 4. 4. 4. 4.]\n",
      " \n",
      "[0.03451415 0.45504876 0.45840564] (Max: 0.4584056442610742 Min: 0.03451415197366603 Mean: 0.31598951929780766 )\n",
      " \n",
      "[ 1.          0.25300172 -0.54230031 -0.44399794  0.13885029  0.36787944\n",
      "  0.09307413 -0.19950113 -0.16333771  0.05108017  0.13533528  0.03424006\n",
      " -0.07339237 -0.06008859  0.01879134  0.04978707  0.01259621 -0.02699954\n",
      " -0.02210536  0.00691295  0.01831564  0.00463389 -0.00993258 -0.00813211\n",
      "  0.00254313]\n",
      " \n",
      "[ 2 10]\n",
      " \n",
      "[10 11]\n",
      "[10 11]\n",
      " \n",
      "[[0. 0. 0.]\n",
      " [0. 0. 0.]]\n",
      " \n",
      "The random matrix is: \n",
      "[[0.6656586  0.7424571  0.5772356  0.83791662]\n",
      " [0.64118068 0.23412198 0.96975939 0.37484972]\n",
      " [0.76486443 0.07318581 0.27683752 0.14713901]\n",
      " [0.60336888 0.87464857 0.51072808 0.58553461]]\n",
      "Number on the 1st row and 3rd: 0.5772355950093341 / Number on the 2nd column and last row: 0.37484971770959585\n",
      "The 1st row is [0.6656586  0.7424571  0.5772356  0.83791662]\n",
      "The last column is [0.83791662 0.37484972 0.14713901 0.58553461]\n",
      "The 1st TO the 3rd columns are:\n",
      "[[0.6656586  0.7424571  0.5772356 ]\n",
      " [0.64118068 0.23412198 0.96975939]\n",
      " [0.76486443 0.07318581 0.27683752]\n",
      " [0.60336888 0.87464857 0.51072808]]\n",
      "The 2nd TO the LAST columns are (yeah, that's right, just leave it blanck after ':'):\n",
      "[[0.6656586  0.7424571  0.5772356  0.83791662]\n",
      " [0.64118068 0.23412198 0.96975939 0.37484972]\n",
      " [0.76486443 0.07318581 0.27683752 0.14713901]\n",
      " [0.60336888 0.87464857 0.51072808 0.58553461]]\n",
      "The 1st AND the 3rd columns are:\n",
      "[[0.6656586  0.5772356 ]\n",
      " [0.64118068 0.96975939]\n",
      " [0.76486443 0.27683752]\n",
      " [0.60336888 0.51072808]]\n"
     ]
    }
   ],
   "source": [
    "import numpy as np\n",
    "\n",
    "# Numpy provides some useful predefined special lists (in numpy they will be ndarray for n dimensional array).\n",
    "array = np.ones(5) # It creates an array of 5 ones.\n",
    "print(array, \"(\", type(array), \")\") # Notice that the type of is numpy.ndarray (yes, we can create custom types!).\n",
    "\n",
    "other_array = 5 * array # Arrays can be seen as vectors and vector operations can be found in numpy\n",
    "final_array = other_array - array\n",
    "print(other_array)\n",
    "print(final_array)\n",
    "\n",
    "# This function generates an array of random numbers!\n",
    "print(\" \")\n",
    "rand_array = np.random.rand(3)\n",
    "\n",
    "# We can compute the value of many functions of the number in the arrays.\n",
    "max_array = np.max(rand_array)\n",
    "min_array = np.min(rand_array)\n",
    "mean_array = np.mean(rand_array)\n",
    "print(rand_array, \"(Max:\", max_array, \"Min:\", min_array, \"Mean:\", mean_array, \")\")\n",
    "\n",
    "print(\" \")\n",
    "# This function from numpy does the same as 'range', but it allow for float numbers.\n",
    "t = np.arange(0., 5., 0.2) \n",
    "math_array = np.exp(-t) * np.cos(2*np.pi*t)\n",
    "print(math_array)\n",
    "\n",
    "# We can convert ordinary lists to np.arrays:\n",
    "print(\" \")\n",
    "numbers = np.array([2, 3, 10, 11])\n",
    "idx_numbers_that_i_like = np.array([True, False, True, False])\n",
    "\n",
    "# And we can index the number in one array based on the other:\n",
    "numbers_that_i_like = numbers[idx_numbers_that_i_like]\n",
    "print(numbers_that_i_like)\n",
    "\n",
    "# We can do logical element-wise operations\n",
    "print(\" \")\n",
    "larger_than_5 = numbers > 5\n",
    "numbers_larger_than_5 = numbers[larger_than_5]\n",
    "print(numbers_larger_than_5)\n",
    "print(numbers[numbers > 5]) # This version is cooler :)\n",
    "\n",
    "# We can go to multidimenstinal arrays (well, we'll be good with 2 dimensional arrays, actually):\n",
    "print(\" \")\n",
    "m = np.zeros([2, 3]) # A matrix of zeros with 2 rows and 3 collumns (here, we pass a list os sizes as argument)\n",
    "print(m)\n",
    "\n",
    "# For matrices, the indexing is similar...\n",
    "print(\" \")\n",
    "m2 = np.random.rand(4, 4) # Notice that we pass the sizes as arguments, not a list of them\n",
    "print(\"The random matrix is: \")\n",
    "print(m2)\n",
    "print(\"Number on the 1st row and 3rd:\", m2[0, 2], \"/ Number on the 2nd column and last row:\", m2[1, -1])\n",
    "\n",
    "# We can also index a whole row or colmun:\n",
    "print(\"The 1st row is\", m2[0, :])\n",
    "print(\"The last column is\", m2[:, -1])\n",
    "\n",
    "# Or any other submatrix\n",
    "print(\"The 1st TO the 3rd columns are:\")\n",
    "print(m2[:, 0:3])\n",
    "\n",
    "print(\"The 2nd TO the LAST columns are (yeah, that's right, just leave it blanck after ':'):\")\n",
    "print(m2[:, 0:])\n",
    "\n",
    "print(\"The 1st AND the 3rd columns are:\")\n",
    "print(m2[:, [0, 2]]) # Notice that we need the brackets to reference the selected indices"
   ]
  },
  {
   "cell_type": "markdown",
   "metadata": {},
   "source": [
    "As you might imagine, there are many more functions and details about numpy, but you'll learn as we go. Here's a good resource if you guys want to go further on: https://docs.scipy.org/doc/numpy/user/quickstart.html"
   ]
  },
  {
   "cell_type": "markdown",
   "metadata": {},
   "source": [
    "### 2.2.2 Matplotlib\n",
    "\n",
    "Ok, we have numpy to compute a bunch of numbers, but they look nicer if we can visualize them! So let's learn about plotting figures. The module here is ``matplotlib`` and, specifically, a submodule called ``pyplot``. Let's start by plotting lines/curves:"
   ]
  },
  {
   "cell_type": "code",
   "execution_count": 1,
   "metadata": {},
   "outputs": [
    {
     "data": {
      "image/png": "[encoded data removed]",
      "text/plain": [
       "<Figure size 432x288 with 1 Axes>"
      ]
     },
     "metadata": {
      "needs_background": "light"
     },
     "output_type": "display_data"
    }
   ],
   "source": [
    "# Forget abot this first line after \"%\" in general, it will be necessary just in Jupyter\n",
    "%matplotlib inline  \n",
    "\n",
    "import matplotlib.pyplot as plt # Let's call it \"plt\" (that's cute enough)\n",
    "\n",
    "x = [1,2,3,4]\n",
    "y = [1,4,9,16]\n",
    "plt.plot(x, y)\n",
    "\n",
    "plt.show() # Nothing will happen will you ask python to show the plot"
   ]
  },
  {
   "cell_type": "markdown",
   "metadata": {},
   "source": [
    "Notice that the function simply matched the numbers in ``x`` to the numbers in ``y`` and connected the dots. This same been drawn in a different way:"
   ]
  },
  {
   "cell_type": "code",
   "execution_count": 2,
   "metadata": {},
   "outputs": [
    {
     "data": {
      "image/png": "[encoded data removed]",
      "text/plain": [
       "<Figure size 432x288 with 1 Axes>"
      ]
     },
     "metadata": {
      "needs_background": "light"
     },
     "output_type": "display_data"
    }
   ],
   "source": [
    "%matplotlib inline  \n",
    "\n",
    "import matplotlib.pyplot as plt \n",
    "\n",
    "y = [1, 4, 9, 16]\n",
    "plt.plot(y, '--or') # When only the values for \"y\" are determined, \"x\" is chosen to be the range list. \n",
    "\n",
    "# The next lines will add labels to the graph\n",
    "plt.title('This is a graph title!')\n",
    "plt.ylabel('The y axis')\n",
    "plt.xlabel('The x axis')\n",
    "\n",
    "# Set axis limits. The argument is a list like [xmin, xmax, ymin, ymax].\n",
    "plt.axis([0, 6, 0, 20])\n",
    "\n",
    "plt.show() "
   ]
  },
  {
   "cell_type": "markdown",
   "metadata": {},
   "source": [
    "The \"code\" ``'--or'`` on line 6 signifies that I want dashed lines (the ``--``) with red (the ``r`` part) circles (the ``o`` part) on the points. Many other variants of this exist! You'll see them eventually. By the way, let's use that to show how to plot many curve in the same axis set:"
   ]
  },
  {
   "cell_type": "code",
   "execution_count": 4,
   "metadata": {},
   "outputs": [
    {
     "data": {
      "image/png": "[encoded data removed]",
      "text/plain": [
       "<Figure size 432x288 with 1 Axes>"
      ]
     },
     "metadata": {
      "needs_background": "light"
     },
     "output_type": "display_data"
    }
   ],
   "source": [
    "%matplotlib inline \n",
    "\n",
    "import numpy as np\n",
    "import matplotlib.pyplot as plt\n",
    "\n",
    "t = np.arange(0., 5., 0.2)\n",
    "f1 = t\n",
    "f2 = t**2\n",
    "f3 = t**3\n",
    "\n",
    "# Red dashes, Blue squares and Green triangles\n",
    "plt.plot(t, f1, 'r--', t, f2, 'bs', t, f3, 'g^')\n",
    "\n",
    "# Wow, I can use this example to introduce legends to you :)\n",
    "plt.legend(['t', 't**2', 't**3'])\n",
    "\n",
    "plt.show()"
   ]
  },
  {
   "cell_type": "markdown",
   "metadata": {},
   "source": [
    "Instead of plotting these curves in the same axis we could plot them in different axis. For that we use the command ``subplot``. Let's see an example:"
   ]
  },
  {
   "cell_type": "code",
   "execution_count": 6,
   "metadata": {},
   "outputs": [
    {
     "data": {
      "image/png": "[encoded data removed]",
      "text/plain": [
       "<Figure size 432x288 with 2 Axes>"
      ]
     },
     "metadata": {
      "needs_background": "light"
     },
     "output_type": "display_data"
    }
   ],
   "source": [
    "%matplotlib inline \n",
    "\n",
    "import numpy as np\n",
    "import matplotlib.pyplot as plt\n",
    "\n",
    "def f(t):\n",
    "    return 2 ** (-t) * np.cos(2 * np.pi * t)\n",
    "\n",
    "t1 = np.arange(0.0, 5.0, 0.1)\n",
    "t2 = np.arange(0.0, 5.0, 0.02)\n",
    "\n",
    "plt.subplot(2, 1, 1)\n",
    "plt.plot(t1, f(t1), 'bo', t2, f(t2), 'k')\n",
    "plt.ylabel('One axis')\n",
    "\n",
    "plt.subplot(2, 1, 2)\n",
    "plt.plot(t2, np.cos(2*np.pi*t2), 'r--')\n",
    "plt.ylabel('Another axis')\n",
    "\n",
    "plt.show()"
   ]
  },
  {
   "cell_type": "markdown",
   "metadata": {},
   "source": [
    "The argument of each ``subplot`` call is a set of three number that specifies number of rows $nr$, number of columns $nc$ and the figure number $fn$ (ranges from 1 to $nr \\times nc$). In other words, it says where you want to position your current graph in a $nr \\times nc$ grid."
   ]
  },
  {
   "cell_type": "markdown",
   "metadata": {},
   "source": [
    "Lastly (for now ¬‿¬), we'll talk about scatter plots! These are simple the plot of a bunch of points that do have an explicit ordering. It is very useful when plotting data sets! Let's check one example:"
   ]
  },
  {
   "cell_type": "code",
   "execution_count": 7,
   "metadata": {},
   "outputs": [
    {
     "data": {
      "image/png": "[encoded data removed]",
      "text/plain": [
       "<Figure size 432x288 with 1 Axes>"
      ]
     },
     "metadata": {
      "needs_background": "light"
     },
     "output_type": "display_data"
    }
   ],
   "source": [
    "%matplotlib inline \n",
    "\n",
    "import numpy as np\n",
    "import matplotlib.pyplot as plt\n",
    "\n",
    "# Let's draw 500 random pairs x, y\n",
    "N = 500\n",
    "x = np.random.rand(N)\n",
    "y = np.random.rand(N)\n",
    "\n",
    "# We plot then basically as we would do with 'plt.plot'\n",
    "plt.scatter(x, y)\n",
    "plt.title('Scatter plot')\n",
    "plt.xlabel('x')\n",
    "plt.ylabel('y')\n",
    "\n",
    "plt.show()"
   ]
  },
  {
   "cell_type": "markdown",
   "metadata": {},
   "source": [
    "We can also plot each point individually, customize them and plot curves along with them!"
   ]
  },
  {
   "cell_type": "code",
   "execution_count": 1,
   "metadata": {},
   "outputs": [
    {
     "data": {
      "image/png": "[encoded data removed]",
      "text/plain": [
       "<Figure size 432x288 with 1 Axes>"
      ]
     },
     "metadata": {
      "needs_background": "light"
     },
     "output_type": "display_data"
    }
   ],
   "source": [
    "%matplotlib inline \n",
    "\n",
    "import matplotlib.pyplot as plt\n",
    "\n",
    "# Here we are just plotting two points and a line. The arguments 's' and 'c' stand for size and color.\n",
    "plt.scatter(1, 0, s=200, c='blue', marker='+', linewidths=2)\n",
    "plt.scatter(-1, 0, s=200, c='red', marker='_', linewidths=2)\n",
    "\n",
    "# And look, here's a line :)\n",
    "plt.plot([0, 0], [1, -1], 'g-')\n",
    "plt.show()"
   ]
  },
  {
   "cell_type": "markdown",
   "metadata": {},
   "source": [
    "That's all folks! See you in the exercise section :) "
   ]
  }
 ],
 "metadata": {
  "kernelspec": {
   "display_name": "Python 3",
   "language": "python",
   "name": "python3"
  },
  "language_info": {
   "codemirror_mode": {
    "name": "ipython",
    "version": 3
   },
   "file_extension": ".py",
   "mimetype": "text/x-python",
   "name": "python",
   "nbconvert_exporter": "python",
   "pygments_lexer": "ipython3",
   "version": "3.6.8"
  }
 },
 "nbformat": 4,
 "nbformat_minor": 2
}
