{
 "cells": [
  {
   "cell_type": "markdown",
   "metadata": {},
   "source": [
    "# 1. Introduction to Python\n",
    "\n",
    "Hi guys! Welcome to our course on artificial intelligence and deep learning! In order to get your hands \"deeply\" dirty, we need first to learn Python. Today, we'll go over the basics."
   ]
  },
  {
   "cell_type": "code",
   "execution_count": null,
   "metadata": {},
   "outputs": [],
   "source": [
    "# Hi! This is a \"comment line\" and its your first peace of code! It doesn't do anything tho :D\n",
    "# This is another comment line! These lines are very useful for documentation and, well, comments haha"
   ]
  },
  {
   "cell_type": "markdown",
   "metadata": {},
   "source": [
    "## 1.1. Variables, Numbers and Strings\n",
    "In Python, most operation are done through the use of <b>variables</b>. You can think of then as \"containers\" that will keep some information, like, for instance, <b>numbers</b>. Each container will have a name and will be assigned some data through the use of the character ``=``. The command `` print() `` will simply output as text what is in the variable in its argument Try the next lines:"
   ]
  },
  {
   "cell_type": "code",
   "execution_count": null,
   "metadata": {},
   "outputs": [],
   "source": [
    "a = 19\n",
    "print(a)"
   ]
  },
  {
   "cell_type": "code",
   "execution_count": null,
   "metadata": {},
   "outputs": [],
   "source": [
    "b = 1.5\n",
    "print(b)"
   ]
  },
  {
   "cell_type": "code",
   "execution_count": null,
   "metadata": {},
   "outputs": [],
   "source": [
    "# Variable names be any combination of letters, numbers and the '_' (the first element should be a character tho).\n",
    "a1 = 1\n",
    "print(a)\n",
    "\n",
    "b_1 = 1.5\n",
    "print(a)\n",
    "\n",
    "2b = 1.5\n",
    "print(2b)"
   ]
  },
  {
   "cell_type": "code",
   "execution_count": null,
   "metadata": {},
   "outputs": [],
   "source": [
    "# (Btw, congrats for your first error message above! Don't worry, many more of them will come :P)"
   ]
  },
  {
   "cell_type": "code",
   "execution_count": null,
   "metadata": {},
   "outputs": [],
   "source": [
    "# Ah, there's also a fancy way of assigning the data to variables\n",
    "fancy_a, fancy_b = 1, 1.5\n",
    "print(fancy_a)\n",
    "print(fancy_b)"
   ]
  },
  {
   "cell_type": "code",
   "execution_count": null,
   "metadata": {},
   "outputs": [],
   "source": [
    "# You can also assign a vriable's content as the content of another variable \n",
    "# (keep in mind tho that these variables just have the same content, but they are not the same variable):\n",
    "new_a = a\n",
    "print(a)\n",
    "print(new_a)"
   ]
  },
  {
   "cell_type": "markdown",
   "metadata": {},
   "source": [
    "All numbers are not the same though! We'll be working basically with two kinds: ``int`` (integers) and ``float`` (floating points or \"more or less\" reals). You can check a variable's type by calling ``type()`` and printing it:"
   ]
  },
  {
   "cell_type": "code",
   "execution_count": null,
   "metadata": {},
   "outputs": [],
   "source": [
    "print(type(a))"
   ]
  },
  {
   "cell_type": "code",
   "execution_count": null,
   "metadata": {},
   "outputs": [],
   "source": [
    "print(type(b))"
   ]
  },
  {
   "cell_type": "code",
   "execution_count": null,
   "metadata": {},
   "outputs": [],
   "source": [
    "# You can change the varables' types using the functions int() and float()\n",
    "a = float(a)\n",
    "print(a)\n",
    "print(type(a))"
   ]
  },
  {
   "cell_type": "markdown",
   "metadata": {},
   "source": [
    "Variables can also contain text! That's what we call <b>strings</b> (in that case the variable type is ``str``). Strings are simple concatenations of characters that are specified by using simple quotes (``' '``) or double quotes (``\" \"``):"
   ]
  },
  {
   "cell_type": "code",
   "execution_count": null,
   "metadata": {},
   "outputs": [],
   "source": [
    "s = \"Hello world!\"\n",
    "print(s)\n",
    "\n",
    "a_str = \"1\"\n",
    "print(a_str)"
   ]
  },
  {
   "cell_type": "code",
   "execution_count": null,
   "metadata": {},
   "outputs": [],
   "source": [
    "# Notice that \"print(a)\" and \"print(a_str)\" output the same result, but they are actually different variables!\n",
    "print(type(a_str))"
   ]
  },
  {
   "cell_type": "markdown",
   "metadata": {},
   "source": [
    "The function ``print()`` can also be used to  output a mix of numbers and string! Check that out:"
   ]
  },
  {
   "cell_type": "code",
   "execution_count": null,
   "metadata": {},
   "outputs": [],
   "source": [
    "print(\"The variable 'a' now contains value:\", a)"
   ]
  },
  {
   "cell_type": "code",
   "execution_count": null,
   "metadata": {},
   "outputs": [],
   "source": [
    "# You can also print the variables anywhere you want in the sring\n",
    "var1 = 'lazy'\n",
    "var2 = 2347827309018287\n",
    "print(var1, \"people fact no.\", var2,\": You were too\", var1,\"to read that number\")"
   ]
  },
  {
   "cell_type": "code",
   "execution_count": null,
   "metadata": {},
   "outputs": [],
   "source": [
    "# String actully have many cool feats. If a variable is a string, you can pull those functions after a dot \".\":\n",
    "var_str = \"Change is good, but dollars are better.\"\n",
    "print(var_str.upper())\n",
    "print(var_str.lower())\n",
    "print(var_str.title())\n",
    "\n",
    "# This one generates a list! A list is something nicer than a variable (we'll look at that later)\n",
    "print(var_str.split())\n",
    "print(var_str.split(',')) "
   ]
  },
  {
   "cell_type": "markdown",
   "metadata": {},
   "source": [
    "## 1.2. Operations with Variables\n",
    "Here, we'll speak about binary operators! They are binary since they take two inputs. You already most of the standard ones for the case of numbers: "
   ]
  },
  {
   "cell_type": "code",
   "execution_count": null,
   "metadata": {},
   "outputs": [],
   "source": [
    "a, b = 1, 2\n",
    "\n",
    "r = a + b\n",
    "print(r)\n",
    "\n",
    "s = a - b\n",
    "print(s)\n",
    "\n",
    "t = a * b\n",
    "print(t)\n",
    "\n",
    "u = a / b\n",
    "print(u, \"(Type: \", type(u), \")\") # Notice how the numbers' class changed with division\n",
    "\n",
    "v = b ** 3 # This is the operator raising to power!\n",
    "print(v) "
   ]
  },
  {
   "cell_type": "markdown",
   "metadata": {},
   "source": [
    "Using parenthesis, we can compute more complicated expressions:"
   ]
  },
  {
   "cell_type": "code",
   "execution_count": null,
   "metadata": {},
   "outputs": [],
   "source": [
    "a, b = 1, 2\n",
    "c = (5 + ((a - b) * b))/2 ** 3\n",
    "print(c)"
   ]
  },
  {
   "cell_type": "markdown",
   "metadata": {},
   "source": [
    "Some of these operators can be also applied to strings:"
   ]
  },
  {
   "cell_type": "code",
   "execution_count": null,
   "metadata": {},
   "outputs": [],
   "source": [
    "str1 = \"This is a \"\n",
    "str2 = \"string\"\n",
    "str3 = \"sentence\"\n",
    "\n",
    "s1 = str1 + str2\n",
    "print(s)\n",
    "\n",
    "s2 = 3 * str1\n",
    "print(s2)\n",
    "\n",
    "s3 = str1 + str2 - str1 # Ops, this can't :P\n",
    "print(s3)"
   ]
  },
  {
   "cell_type": "markdown",
   "metadata": {},
   "source": [
    "A set very important operators are the <b> logical </b> ones. They are ``==``(equality), ``!=`` (inequality), ``>``/``<`` (greater/lesser) and ``>=``/``<=`` (greater or equal/lesser or equal). Their results assumes a new type called ``bool`` for boolean. Let's check them:"
   ]
  },
  {
   "cell_type": "code",
   "execution_count": null,
   "metadata": {},
   "outputs": [],
   "source": [
    "a, b, c = 1, 2, 1\n",
    "\n",
    "r = a == b\n",
    "print(r, \"(Type: \", type(r), \")\")\n",
    "\n",
    "s = a != b\n",
    "print(s, \"(Type: \", type(s), \")\")\n",
    "\n",
    "t = a >= c\n",
    "print(t, \"(Type: \", type(t), \")\")"
   ]
  },
  {
   "cell_type": "markdown",
   "metadata": {},
   "source": [
    "The there are also operators only for boolean values! They are the operators ``and``, ``not`` and ``or``:"
   ]
  },
  {
   "cell_type": "code",
   "execution_count": null,
   "metadata": {},
   "outputs": [],
   "source": [
    "python_is_cool, java_is_cool = True, False\n",
    "print(\"Is Python cool? Ans:\", python_is_cool)\n",
    "print(\"Is either Python or Java cool? Ans:\", python_is_cool or java_is_cool)\n",
    "print(\"Are Python and Java cool? Ans:\", python_is_cool and java_is_cool)"
   ]
  },
  {
   "cell_type": "markdown",
   "metadata": {},
   "source": [
    "An important function that takes booleans, is the function ``assert``. It gives an error message went its input is ``False``: "
   ]
  },
  {
   "cell_type": "code",
   "execution_count": null,
   "metadata": {},
   "outputs": [],
   "source": [
    "java_is_cool = False\n",
    "assert(java_is_cool == True)"
   ]
  },
  {
   "cell_type": "markdown",
   "metadata": {},
   "source": [
    "## 1.3 Conditional Statements \n",
    "Using the boolean operations above, we add conditional statements, i.e., pieces of the code that are only valid if some logical expression is true. This can be accomplished via the use of ``if`` command. For example:"
   ]
  },
  {
   "cell_type": "code",
   "execution_count": null,
   "metadata": {},
   "outputs": [],
   "source": [
    "statement = True\n",
    "if statement:\n",
    "    print('statement is True')\n",
    "    \n",
    "if not statement:\n",
    "    print('statement is not True')"
   ]
  },
  {
   "cell_type": "markdown",
   "metadata": {},
   "source": [
    "Notice that the <b>indentation is crucial</b>: it defines what happens if a statement is true! This fact will hold for the other <b>environments</b> we'll see later. There are also other forms of conditional environments. We'll might also work with ``if-else`` and ``if-elif-else``:"
   ]
  },
  {
   "cell_type": "code",
   "execution_count": null,
   "metadata": {},
   "outputs": [],
   "source": [
    "val = -1\n",
    "if val > 0:\n",
    "    print('Value is positive')\n",
    "else:\n",
    "    print('Value is non-negative')"
   ]
  },
  {
   "cell_type": "code",
   "execution_count": null,
   "metadata": {},
   "outputs": [],
   "source": [
    "val = 20\n",
    "if val >= 100:\n",
    "    print('Value is equal or greater than 100')\n",
    "elif val > 10:\n",
    "    print('Value is greater than 10 but less than 100')\n",
    "else:\n",
    "    print('Value is equal or less than 10')"
   ]
  },
  {
   "cell_type": "markdown",
   "metadata": {},
   "source": [
    "## 1.4 Lists and ``for`` loops\n",
    "Now we can introduce the first data structure in Python! The list! It is quite simple: a list is a collection of values that can be changed as the programmer wants (this may not be true in other data structures). Creating lists is quite simple:"
   ]
  },
  {
   "cell_type": "code",
   "execution_count": null,
   "metadata": {},
   "outputs": [],
   "source": [
    "l1 = [] # An empty list\n",
    "print(l1)\n",
    "\n",
    "l2 = [1, 2, 3, 4] # A numerical list\n",
    "print(l2)\n",
    "\n",
    "l3 = ['This', 'is', 'Python', 3, '!'] # A list of strings and numbers!\n",
    "print(l3)"
   ]
  },
  {
   "cell_type": "markdown",
   "metadata": {},
   "source": [
    "You can change the values in a list by indexing the desired position in brackets ``[]`` (Notice that the first position is indexed by \"0\"). You can also access the position backwards! Just type a ``-`` before the index. That will make ``[-1]`` the last element, ``[-2]`` the second to last, etc."
   ]
  },
  {
   "cell_type": "code",
   "execution_count": null,
   "metadata": {},
   "outputs": [],
   "source": [
    "l = ['This', 'is', 'Python', 2.7, '!']\n",
    "\n",
    "# Lemme check my Python version...\n",
    "print(l[3])\n",
    "\n",
    "# Ops, it's actually Python 3...\n",
    "l[3] = 3\n",
    "print(l)\n",
    "\n",
    "# Awn, I don't like Python 3...\n",
    "l[-1] = \":(\" \n",
    "print(l)"
   ]
  },
  {
   "cell_type": "markdown",
   "metadata": {},
   "source": [
    "There is also some important functions for lists:"
   ]
  },
  {
   "cell_type": "code",
   "execution_count": null,
   "metadata": {},
   "outputs": [],
   "source": [
    "l = [1, 2, 3, 4]\n",
    "print(\"The lenght of the list is:\", len(l))\n",
    "\n",
    "# Too short of a list, I'll infinite characters!!!\n",
    "l.append(\"∞\")\n",
    "l.append(\"∞\")\n",
    "print(l) # Ops, I meant infinity characters :P\n",
    "\n",
    "# Shoot, I just found out that I wholeheartedly dislike infinity characters...\n",
    "l.remove(\"∞\")\n",
    "print(l) # Oh yeah, \"remove\" only removes the first value matching with its argument!\n",
    "\n",
    "# Lemme check if there is another infinity\n",
    "infinity_is_in_the_list = \"∞\" in l\n",
    "if infinity_is_in_the_list:\n",
    "    l.remove(\"∞\")\n",
    "    print(l)\n",
    "else:\n",
    "    print(\"Mission accomplished!\")"
   ]
  },
  {
   "cell_type": "markdown",
   "metadata": {},
   "source": [
    "Now imagine that you have a bunch of things to append to your list? Or, worse, you have to repeat a bunch of actions some millions of times and you happen to not live for forever or to be just lazy (like me). What to do? So we can introduce the concept of loop! Here, we'll use just the ``for`` loops. Look how easy it is to use them:"
   ]
  },
  {
   "cell_type": "code",
   "execution_count": null,
   "metadata": {},
   "outputs": [],
   "source": [
    "my_list = [1, 2, 3, 4, 'Python', 'is', 'neat']\n",
    "for item in my_list: # Notice the indentation!!!\n",
    "    print(item)"
   ]
  },
  {
   "cell_type": "markdown",
   "metadata": {},
   "source": [
    "Simple, isn't? Lets get more serious:"
   ]
  },
  {
   "cell_type": "code",
   "execution_count": null,
   "metadata": {},
   "outputs": [],
   "source": [
    "my_list = [1, 2, 3, 4, 'Python', 'is', 'neat']\n",
    "\n",
    "# The command \"break\" stops the execution of the loop:\n",
    "for item in my_list:\n",
    "    if item == 'Python':\n",
    "        break\n",
    "    print(item)\n",
    "\n",
    "print(\" \")\n",
    "# Continue to the next item without executing the lines occuring after the command\"continue\" inside the loop.\n",
    "for item in my_list:\n",
    "    if item == 1:\n",
    "        continue\n",
    "    print(item)\n",
    "    \n",
    "print(\" \")\n",
    "# In case you need to also know the index:\n",
    "for idx, val in enumerate(my_list):\n",
    "    print(\"Item\", idx, \":\", val)\n",
    "\n",
    "print(\" \")\n",
    "# In case you want to go through a list of integers sequentially ordered, you have the function range()!\n",
    "for number in range(5): # Integers from 0 to 5\n",
    "    print(number)\n",
    "\n",
    "print(\" \")\n",
    "for number in range(2, 5): # Integers from 2 to 5\n",
    "    print(number)\n",
    "    \n",
    "print(\" \")\n",
    "for number in range(3, 10, 2): # Integers from 2 to 10, step of 2\n",
    "    print(number)"
   ]
  },
  {
   "cell_type": "markdown",
   "metadata": {},
   "source": [
    "The last cool thing to know about py-lists (get used to see this \"py\" as an abbreviation for Python everywhere) is that they can be done in one line. That's called List Comprehensions. But how does this work, sir? Simple:"
   ]
  },
  {
   "cell_type": "code",
   "execution_count": null,
   "metadata": {},
   "outputs": [],
   "source": [
    "list_comprehension = [i for i in range(5)]\n",
    "print(one_line_list_for)\n",
    "\n",
    "list_comprehension_with_if_statement = [3 * i for i in range(10) if i < 6]\n",
    "print(one_line_list_for_with_if_statement)\n",
    "\n",
    "another_list_comprehension_with_an_unnecessarily_long_variable_name = [print(\"Item\", idx, \":\", val) for idx, val in enumerate(list_comprehension_with_if_statement)]"
   ]
  },
  {
   "cell_type": "markdown",
   "metadata": {},
   "source": [
    "This is enough for today! Have fun with the exercises!!!"
   ]
  }
 ],
 "metadata": {
  "kernelspec": {
   "display_name": "Python 3",
   "language": "python",
   "name": "python3"
  },
  "language_info": {
   "codemirror_mode": {
    "name": "ipython",
    "version": 3
   },
   "file_extension": ".py",
   "mimetype": "text/x-python",
   "name": "python",
   "nbconvert_exporter": "python",
   "pygments_lexer": "ipython3",
   "version": "3.6.8"
  }
 },
 "nbformat": 4,
 "nbformat_minor": 2
}
